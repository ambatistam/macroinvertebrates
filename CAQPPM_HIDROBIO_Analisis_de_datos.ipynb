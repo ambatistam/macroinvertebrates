{
  "nbformat": 4,
  "nbformat_minor": 0,
  "metadata": {
    "colab": {
      "provenance": [],
      "include_colab_link": true
    },
    "kernelspec": {
      "name": "python3",
      "display_name": "Python 3"
    },
    "language_info": {
      "name": "python"
    }
  },
  "cells": [
    {
      "cell_type": "markdown",
      "metadata": {
        "id": "view-in-github",
        "colab_type": "text"
      },
      "source": [
        "<a href=\"https://colab.research.google.com/github/ambatistam/macroinvertebrates/blob/main/CAQPPM_HIDROBIO_Analisis_de_datos.ipynb\" target=\"_parent\"><img src=\"https://colab.research.google.com/assets/colab-badge.svg\" alt=\"Open In Colab\"/></a>"
      ]
    },
    {
      "cell_type": "markdown",
      "source": [
        "## **Análisis de datos de monitoreo hidrobiológico**\n",
        "\n",
        "**Fecha de elaboración:** 2023-09 <br>\n",
        "**Autor:** Angélica Batista-Morales <br>\n",
        "**Responsable de mantenimiento:** Carlos Guio, Maria Isabel Barrera <br>\n",
        "**Proyecto:** CAQPPM <br>\n",
        "**Propiedad:** Corporación Geoambiental Terrae <br>\n",
        "**Modo de uso:** *Con este script se realiza el análisis y visualización de datos de monitoreo hidrobiológico de datos que provienen del análisis técnico de muestras provenientes de diferentes sitios y épocas*"
      ],
      "metadata": {
        "id": "n3Efk_uJl2Ud"
      }
    },
    {
      "cell_type": "markdown",
      "source": [
        "## **1. Setup**\n",
        "---\n",
        "Se configura el cuaderno para conectarse al DRIVE de TERRAE. Se cargan las librerias necesarias."
      ],
      "metadata": {
        "id": "qpAme0bbotNU"
      }
    },
    {
      "cell_type": "code",
      "execution_count": 38,
      "metadata": {
        "id": "Bd_DMLjrFMd1",
        "colab": {
          "base_uri": "https://localhost:8080/"
        },
        "outputId": "ac706202-1a3b-4f8c-8963-472063ff93d7"
      },
      "outputs": [
        {
          "output_type": "stream",
          "name": "stdout",
          "text": [
            "Drive already mounted at /content/drive; to attempt to forcibly remount, call drive.mount(\"/content/drive\", force_remount=True).\n"
          ]
        }
      ],
      "source": [
        "from google.colab import drive\n",
        "drive.mount('/content/drive')"
      ]
    },
    {
      "cell_type": "code",
      "source": [
        "!pip install rpy2\n",
        "!pip install ro"
      ],
      "metadata": {
        "colab": {
          "base_uri": "https://localhost:8080/"
        },
        "id": "GarXvCaVjGZd",
        "outputId": "3d30961a-f595-4c0d-94a2-c0dd6da40452"
      },
      "execution_count": 30,
      "outputs": [
        {
          "output_type": "stream",
          "name": "stdout",
          "text": [
            "Requirement already satisfied: rpy2 in /usr/local/lib/python3.10/dist-packages (3.4.2)\n",
            "Requirement already satisfied: cffi>=1.10.0 in /usr/local/lib/python3.10/dist-packages (from rpy2) (1.16.0)\n",
            "Requirement already satisfied: jinja2 in /usr/local/lib/python3.10/dist-packages (from rpy2) (3.1.2)\n",
            "Requirement already satisfied: pytz in /usr/local/lib/python3.10/dist-packages (from rpy2) (2023.3.post1)\n",
            "Requirement already satisfied: tzlocal in /usr/local/lib/python3.10/dist-packages (from rpy2) (5.1)\n",
            "Requirement already satisfied: pycparser in /usr/local/lib/python3.10/dist-packages (from cffi>=1.10.0->rpy2) (2.21)\n",
            "Requirement already satisfied: MarkupSafe>=2.0 in /usr/local/lib/python3.10/dist-packages (from jinja2->rpy2) (2.1.3)\n",
            "Requirement already satisfied: ro in /usr/local/lib/python3.10/dist-packages (3.6.9)\n"
          ]
        }
      ]
    },
    {
      "cell_type": "code",
      "source": [
        "import pandas as pd\n",
        "import numpy as np #manipulación numérica\n",
        "import seaborn as sns #formato ideal de gráficas estáticas\n",
        "import matplotlib.pyplot as plt #sirve para modificar parámetros de gráficas\n",
        "import plotly.express as px #gráficas dinámicas para web\n",
        "%load_ext rpy2.ipython"
      ],
      "metadata": {
        "id": "gGTcbyfyqk3y",
        "colab": {
          "base_uri": "https://localhost:8080/"
        },
        "outputId": "fca74364-cdcd-4f34-fdde-1bb3be00b3bd"
      },
      "execution_count": 31,
      "outputs": [
        {
          "output_type": "stream",
          "name": "stdout",
          "text": [
            "The rpy2.ipython extension is already loaded. To reload it, use:\n",
            "  %reload_ext rpy2.ipython\n"
          ]
        }
      ]
    },
    {
      "cell_type": "markdown",
      "source": [
        "##**2. Carga de datos**\n",
        "---\n",
        "Los datos hidrobiológicos se registraron por la comunidad en formatos de complejidad progresiva, con curaduria por parte de Angélica Batista y se digitalizaron en Kobo posteriormente. Estos datos corresponden a ..."
      ],
      "metadata": {
        "id": "QuDwAKVapdI-"
      }
    },
    {
      "cell_type": "code",
      "source": [
        "ruta_HIDROBIO = '/content/drive/MyDrive/CAQPPM_DATOS/02_CAQPPM_TABLAS/202305_CAQPPM_MONITOREO_HIDROBIO_Abundancia taxones.xlsx'\n",
        "\n",
        "HIDROBIO_crudos = pd.read_excel(ruta_HIDROBIO)\n",
        "\n",
        "HIDROBIO_crudos.head()"
      ],
      "metadata": {
        "colab": {
          "base_uri": "https://localhost:8080/",
          "height": 206
        },
        "id": "VmnifQtWqVHg",
        "outputId": "d34a952f-a309-457e-c431-a75a0f771a9e"
      },
      "execution_count": 49,
      "outputs": [
        {
          "output_type": "execute_result",
          "data": {
            "text/plain": [
              "      COD   COMP_id  REG_id PTO_id                  PTO        FCH  \\\n",
              "0  CAQPPM  HIDROBIO       1      C  Quebrada La Paujila 2022-07-23   \n",
              "1  CAQPPM  HIDROBIO       2      C  Quebrada La Paujila 2022-07-23   \n",
              "2  CAQPPM  HIDROBIO       3      C  Quebrada La Paujila 2022-07-23   \n",
              "3  CAQPPM  HIDROBIO       4      C  Quebrada La Paujila 2022-07-23   \n",
              "4  CAQPPM  HIDROBIO       5      C  Quebrada La Paujila 2022-07-23   \n",
              "\n",
              "            taxon  PTJE_taxon  ABUN_taxon  \n",
              "0  Calopterygidae           7           8  \n",
              "1    Palaemonidae           8           2  \n",
              "2       Gomphidae          10           1  \n",
              "3       Aeshnidae           6           1  \n",
              "4    Chironomidae           2           1  "
            ],
            "text/html": [
              "\n",
              "  <div id=\"df-61bdcaa2-e3ae-411d-8cc4-a581947aefff\" class=\"colab-df-container\">\n",
              "    <div>\n",
              "<style scoped>\n",
              "    .dataframe tbody tr th:only-of-type {\n",
              "        vertical-align: middle;\n",
              "    }\n",
              "\n",
              "    .dataframe tbody tr th {\n",
              "        vertical-align: top;\n",
              "    }\n",
              "\n",
              "    .dataframe thead th {\n",
              "        text-align: right;\n",
              "    }\n",
              "</style>\n",
              "<table border=\"1\" class=\"dataframe\">\n",
              "  <thead>\n",
              "    <tr style=\"text-align: right;\">\n",
              "      <th></th>\n",
              "      <th>COD</th>\n",
              "      <th>COMP_id</th>\n",
              "      <th>REG_id</th>\n",
              "      <th>PTO_id</th>\n",
              "      <th>PTO</th>\n",
              "      <th>FCH</th>\n",
              "      <th>taxon</th>\n",
              "      <th>PTJE_taxon</th>\n",
              "      <th>ABUN_taxon</th>\n",
              "    </tr>\n",
              "  </thead>\n",
              "  <tbody>\n",
              "    <tr>\n",
              "      <th>0</th>\n",
              "      <td>CAQPPM</td>\n",
              "      <td>HIDROBIO</td>\n",
              "      <td>1</td>\n",
              "      <td>C</td>\n",
              "      <td>Quebrada La Paujila</td>\n",
              "      <td>2022-07-23</td>\n",
              "      <td>Calopterygidae</td>\n",
              "      <td>7</td>\n",
              "      <td>8</td>\n",
              "    </tr>\n",
              "    <tr>\n",
              "      <th>1</th>\n",
              "      <td>CAQPPM</td>\n",
              "      <td>HIDROBIO</td>\n",
              "      <td>2</td>\n",
              "      <td>C</td>\n",
              "      <td>Quebrada La Paujila</td>\n",
              "      <td>2022-07-23</td>\n",
              "      <td>Palaemonidae</td>\n",
              "      <td>8</td>\n",
              "      <td>2</td>\n",
              "    </tr>\n",
              "    <tr>\n",
              "      <th>2</th>\n",
              "      <td>CAQPPM</td>\n",
              "      <td>HIDROBIO</td>\n",
              "      <td>3</td>\n",
              "      <td>C</td>\n",
              "      <td>Quebrada La Paujila</td>\n",
              "      <td>2022-07-23</td>\n",
              "      <td>Gomphidae</td>\n",
              "      <td>10</td>\n",
              "      <td>1</td>\n",
              "    </tr>\n",
              "    <tr>\n",
              "      <th>3</th>\n",
              "      <td>CAQPPM</td>\n",
              "      <td>HIDROBIO</td>\n",
              "      <td>4</td>\n",
              "      <td>C</td>\n",
              "      <td>Quebrada La Paujila</td>\n",
              "      <td>2022-07-23</td>\n",
              "      <td>Aeshnidae</td>\n",
              "      <td>6</td>\n",
              "      <td>1</td>\n",
              "    </tr>\n",
              "    <tr>\n",
              "      <th>4</th>\n",
              "      <td>CAQPPM</td>\n",
              "      <td>HIDROBIO</td>\n",
              "      <td>5</td>\n",
              "      <td>C</td>\n",
              "      <td>Quebrada La Paujila</td>\n",
              "      <td>2022-07-23</td>\n",
              "      <td>Chironomidae</td>\n",
              "      <td>2</td>\n",
              "      <td>1</td>\n",
              "    </tr>\n",
              "  </tbody>\n",
              "</table>\n",
              "</div>\n",
              "    <div class=\"colab-df-buttons\">\n",
              "\n",
              "  <div class=\"colab-df-container\">\n",
              "    <button class=\"colab-df-convert\" onclick=\"convertToInteractive('df-61bdcaa2-e3ae-411d-8cc4-a581947aefff')\"\n",
              "            title=\"Convert this dataframe to an interactive table.\"\n",
              "            style=\"display:none;\">\n",
              "\n",
              "  <svg xmlns=\"http://www.w3.org/2000/svg\" height=\"24px\" viewBox=\"0 -960 960 960\">\n",
              "    <path d=\"M120-120v-720h720v720H120Zm60-500h600v-160H180v160Zm220 220h160v-160H400v160Zm0 220h160v-160H400v160ZM180-400h160v-160H180v160Zm440 0h160v-160H620v160ZM180-180h160v-160H180v160Zm440 0h160v-160H620v160Z\"/>\n",
              "  </svg>\n",
              "    </button>\n",
              "\n",
              "  <style>\n",
              "    .colab-df-container {\n",
              "      display:flex;\n",
              "      gap: 12px;\n",
              "    }\n",
              "\n",
              "    .colab-df-convert {\n",
              "      background-color: #E8F0FE;\n",
              "      border: none;\n",
              "      border-radius: 50%;\n",
              "      cursor: pointer;\n",
              "      display: none;\n",
              "      fill: #1967D2;\n",
              "      height: 32px;\n",
              "      padding: 0 0 0 0;\n",
              "      width: 32px;\n",
              "    }\n",
              "\n",
              "    .colab-df-convert:hover {\n",
              "      background-color: #E2EBFA;\n",
              "      box-shadow: 0px 1px 2px rgba(60, 64, 67, 0.3), 0px 1px 3px 1px rgba(60, 64, 67, 0.15);\n",
              "      fill: #174EA6;\n",
              "    }\n",
              "\n",
              "    .colab-df-buttons div {\n",
              "      margin-bottom: 4px;\n",
              "    }\n",
              "\n",
              "    [theme=dark] .colab-df-convert {\n",
              "      background-color: #3B4455;\n",
              "      fill: #D2E3FC;\n",
              "    }\n",
              "\n",
              "    [theme=dark] .colab-df-convert:hover {\n",
              "      background-color: #434B5C;\n",
              "      box-shadow: 0px 1px 3px 1px rgba(0, 0, 0, 0.15);\n",
              "      filter: drop-shadow(0px 1px 2px rgba(0, 0, 0, 0.3));\n",
              "      fill: #FFFFFF;\n",
              "    }\n",
              "  </style>\n",
              "\n",
              "    <script>\n",
              "      const buttonEl =\n",
              "        document.querySelector('#df-61bdcaa2-e3ae-411d-8cc4-a581947aefff button.colab-df-convert');\n",
              "      buttonEl.style.display =\n",
              "        google.colab.kernel.accessAllowed ? 'block' : 'none';\n",
              "\n",
              "      async function convertToInteractive(key) {\n",
              "        const element = document.querySelector('#df-61bdcaa2-e3ae-411d-8cc4-a581947aefff');\n",
              "        const dataTable =\n",
              "          await google.colab.kernel.invokeFunction('convertToInteractive',\n",
              "                                                    [key], {});\n",
              "        if (!dataTable) return;\n",
              "\n",
              "        const docLinkHtml = 'Like what you see? Visit the ' +\n",
              "          '<a target=\"_blank\" href=https://colab.research.google.com/notebooks/data_table.ipynb>data table notebook</a>'\n",
              "          + ' to learn more about interactive tables.';\n",
              "        element.innerHTML = '';\n",
              "        dataTable['output_type'] = 'display_data';\n",
              "        await google.colab.output.renderOutput(dataTable, element);\n",
              "        const docLink = document.createElement('div');\n",
              "        docLink.innerHTML = docLinkHtml;\n",
              "        element.appendChild(docLink);\n",
              "      }\n",
              "    </script>\n",
              "  </div>\n",
              "\n",
              "\n",
              "<div id=\"df-15c1ab86-3a51-4198-a504-af60d95ff65b\">\n",
              "  <button class=\"colab-df-quickchart\" onclick=\"quickchart('df-15c1ab86-3a51-4198-a504-af60d95ff65b')\"\n",
              "            title=\"Suggest charts.\"\n",
              "            style=\"display:none;\">\n",
              "\n",
              "<svg xmlns=\"http://www.w3.org/2000/svg\" height=\"24px\"viewBox=\"0 0 24 24\"\n",
              "     width=\"24px\">\n",
              "    <g>\n",
              "        <path d=\"M19 3H5c-1.1 0-2 .9-2 2v14c0 1.1.9 2 2 2h14c1.1 0 2-.9 2-2V5c0-1.1-.9-2-2-2zM9 17H7v-7h2v7zm4 0h-2V7h2v10zm4 0h-2v-4h2v4z\"/>\n",
              "    </g>\n",
              "</svg>\n",
              "  </button>\n",
              "\n",
              "<style>\n",
              "  .colab-df-quickchart {\n",
              "      --bg-color: #E8F0FE;\n",
              "      --fill-color: #1967D2;\n",
              "      --hover-bg-color: #E2EBFA;\n",
              "      --hover-fill-color: #174EA6;\n",
              "      --disabled-fill-color: #AAA;\n",
              "      --disabled-bg-color: #DDD;\n",
              "  }\n",
              "\n",
              "  [theme=dark] .colab-df-quickchart {\n",
              "      --bg-color: #3B4455;\n",
              "      --fill-color: #D2E3FC;\n",
              "      --hover-bg-color: #434B5C;\n",
              "      --hover-fill-color: #FFFFFF;\n",
              "      --disabled-bg-color: #3B4455;\n",
              "      --disabled-fill-color: #666;\n",
              "  }\n",
              "\n",
              "  .colab-df-quickchart {\n",
              "    background-color: var(--bg-color);\n",
              "    border: none;\n",
              "    border-radius: 50%;\n",
              "    cursor: pointer;\n",
              "    display: none;\n",
              "    fill: var(--fill-color);\n",
              "    height: 32px;\n",
              "    padding: 0;\n",
              "    width: 32px;\n",
              "  }\n",
              "\n",
              "  .colab-df-quickchart:hover {\n",
              "    background-color: var(--hover-bg-color);\n",
              "    box-shadow: 0 1px 2px rgba(60, 64, 67, 0.3), 0 1px 3px 1px rgba(60, 64, 67, 0.15);\n",
              "    fill: var(--button-hover-fill-color);\n",
              "  }\n",
              "\n",
              "  .colab-df-quickchart-complete:disabled,\n",
              "  .colab-df-quickchart-complete:disabled:hover {\n",
              "    background-color: var(--disabled-bg-color);\n",
              "    fill: var(--disabled-fill-color);\n",
              "    box-shadow: none;\n",
              "  }\n",
              "\n",
              "  .colab-df-spinner {\n",
              "    border: 2px solid var(--fill-color);\n",
              "    border-color: transparent;\n",
              "    border-bottom-color: var(--fill-color);\n",
              "    animation:\n",
              "      spin 1s steps(1) infinite;\n",
              "  }\n",
              "\n",
              "  @keyframes spin {\n",
              "    0% {\n",
              "      border-color: transparent;\n",
              "      border-bottom-color: var(--fill-color);\n",
              "      border-left-color: var(--fill-color);\n",
              "    }\n",
              "    20% {\n",
              "      border-color: transparent;\n",
              "      border-left-color: var(--fill-color);\n",
              "      border-top-color: var(--fill-color);\n",
              "    }\n",
              "    30% {\n",
              "      border-color: transparent;\n",
              "      border-left-color: var(--fill-color);\n",
              "      border-top-color: var(--fill-color);\n",
              "      border-right-color: var(--fill-color);\n",
              "    }\n",
              "    40% {\n",
              "      border-color: transparent;\n",
              "      border-right-color: var(--fill-color);\n",
              "      border-top-color: var(--fill-color);\n",
              "    }\n",
              "    60% {\n",
              "      border-color: transparent;\n",
              "      border-right-color: var(--fill-color);\n",
              "    }\n",
              "    80% {\n",
              "      border-color: transparent;\n",
              "      border-right-color: var(--fill-color);\n",
              "      border-bottom-color: var(--fill-color);\n",
              "    }\n",
              "    90% {\n",
              "      border-color: transparent;\n",
              "      border-bottom-color: var(--fill-color);\n",
              "    }\n",
              "  }\n",
              "</style>\n",
              "\n",
              "  <script>\n",
              "    async function quickchart(key) {\n",
              "      const quickchartButtonEl =\n",
              "        document.querySelector('#' + key + ' button');\n",
              "      quickchartButtonEl.disabled = true;  // To prevent multiple clicks.\n",
              "      quickchartButtonEl.classList.add('colab-df-spinner');\n",
              "      try {\n",
              "        const charts = await google.colab.kernel.invokeFunction(\n",
              "            'suggestCharts', [key], {});\n",
              "      } catch (error) {\n",
              "        console.error('Error during call to suggestCharts:', error);\n",
              "      }\n",
              "      quickchartButtonEl.classList.remove('colab-df-spinner');\n",
              "      quickchartButtonEl.classList.add('colab-df-quickchart-complete');\n",
              "    }\n",
              "    (() => {\n",
              "      let quickchartButtonEl =\n",
              "        document.querySelector('#df-15c1ab86-3a51-4198-a504-af60d95ff65b button');\n",
              "      quickchartButtonEl.style.display =\n",
              "        google.colab.kernel.accessAllowed ? 'block' : 'none';\n",
              "    })();\n",
              "  </script>\n",
              "</div>\n",
              "    </div>\n",
              "  </div>\n"
            ]
          },
          "metadata": {},
          "execution_count": 49
        }
      ]
    },
    {
      "cell_type": "markdown",
      "source": [
        "Transformar el dataframe de pandas a R"
      ],
      "metadata": {
        "id": "RVGPxpiUF7IY"
      }
    },
    {
      "cell_type": "code",
      "source": [
        "%R -i HIDROBIO_crudos"
      ],
      "metadata": {
        "colab": {
          "base_uri": "https://localhost:8080/"
        },
        "id": "0T-xHQopikUw",
        "outputId": "c97e0319-128e-43c5-ec4a-f1b942985626"
      },
      "execution_count": 50,
      "outputs": [
        {
          "output_type": "stream",
          "name": "stderr",
          "text": [
            "/usr/local/lib/python3.10/dist-packages/rpy2/robjects/pandas2ri.py:55: FutureWarning: iteritems is deprecated and will be removed in a future version. Use .items instead.\n",
            "  for name, values in obj.iteritems():\n"
          ]
        }
      ]
    },
    {
      "cell_type": "code",
      "source": [
        "%%R\n",
        "\n",
        "head(HIDROBIO_crudos)"
      ],
      "metadata": {
        "colab": {
          "base_uri": "https://localhost:8080/"
        },
        "id": "UY6HN3TIo8Tl",
        "outputId": "510f63a9-cf5a-4d44-e361-b895b82c2d60"
      },
      "execution_count": 51,
      "outputs": [
        {
          "output_type": "stream",
          "name": "stdout",
          "text": [
            "     COD  COMP_id REG_id PTO_id                 PTO        FCH           taxon\n",
            "0 CAQPPM HIDROBIO      1      C Quebrada La Paujila 2022-07-23  Calopterygidae\n",
            "1 CAQPPM HIDROBIO      2      C Quebrada La Paujila 2022-07-23    Palaemonidae\n",
            "2 CAQPPM HIDROBIO      3      C Quebrada La Paujila 2022-07-23       Gomphidae\n",
            "3 CAQPPM HIDROBIO      4      C Quebrada La Paujila 2022-07-23       Aeshnidae\n",
            "4 CAQPPM HIDROBIO      5      C Quebrada La Paujila 2022-07-23    Chironomidae\n",
            "5 CAQPPM HIDROBIO      6      C Quebrada La Paujila 2022-07-23 Leptophlebiidae\n",
            "  PTJE_taxon ABUN_taxon\n",
            "0          7          8\n",
            "1          8          2\n",
            "2         10          1\n",
            "3          6          1\n",
            "4          2          1\n",
            "5          9          1\n"
          ]
        }
      ]
    },
    {
      "cell_type": "markdown",
      "source": [
        "##**3. Análisis exploratorio**\n",
        "---\n",
        "\n",
        "A continuación se exploran sus características básicas"
      ],
      "metadata": {
        "id": "E5iNCVp46o94"
      }
    },
    {
      "cell_type": "code",
      "source": [
        "%%R\n",
        "str(HIDROBIO_crudos)\n"
      ],
      "metadata": {
        "colab": {
          "base_uri": "https://localhost:8080/"
        },
        "id": "oq3mkrw9so5E",
        "outputId": "7ba9c249-8aed-4e21-d57e-45d44040007f"
      },
      "execution_count": 40,
      "outputs": [
        {
          "output_type": "stream",
          "name": "stdout",
          "text": [
            "'data.frame':\t239 obs. of  9 variables:\n",
            " $ COD       : chr  \"CAQPPM\" \"CAQPPM\" \"CAQPPM\" \"CAQPPM\" ...\n",
            " $ COMP_id   : chr  \"HIDROBIO\" \"HIDROBIO\" \"HIDROBIO\" \"HIDROBIO\" ...\n",
            " $ REG_id    : int  1 2 3 4 5 6 7 8 9 10 ...\n",
            " $ PTO_id    : chr  \"C\" \"C\" \"C\" \"C\" ...\n",
            " $ PTO       : chr  \"Quebrada La Paujila\" \"Quebrada La Paujila\" \"Quebrada La Paujila\" \"Quebrada La Paujila\" ...\n",
            " $ FCH       : POSIXct, format: \"2022-07-23\" \"2022-07-23\" ...\n",
            " $ taxon     : chr  \"Calopterygidae\" \"Palaemonidae\" \"Gomphidae\" \"Aeshnidae\" ...\n",
            " $ PTJE_taxon: int  7 8 10 6 2 9 7 9 2 7 ...\n",
            " $ ABUN_taxon: int  8 2 1 1 1 1 11 3 5 1 ...\n"
          ]
        }
      ]
    },
    {
      "cell_type": "code",
      "source": [
        "%%R\n",
        "summary(HIDROBIO_crudos)"
      ],
      "metadata": {
        "id": "k-HvDvh5tCVL",
        "outputId": "0897fda2-a9db-4a3b-f311-56a3c89505ea",
        "colab": {
          "base_uri": "https://localhost:8080/"
        }
      },
      "execution_count": 14,
      "outputs": [
        {
          "output_type": "stream",
          "name": "stdout",
          "text": [
            "     COD              COMP_id              REG_id         PTO_id         \n",
            " Length:239         Length:239         Min.   :  1.0   Length:239        \n",
            " Class :character   Class :character   1st Qu.: 60.5   Class :character  \n",
            " Mode  :character   Mode  :character   Median :120.0   Mode  :character  \n",
            "                                       Mean   :120.0                     \n",
            "                                       3rd Qu.:179.5                     \n",
            "                                       Max.   :239.0                     \n",
            "     PTO                 FCH                            taxon          \n",
            " Length:239         Min.   :2022-07-23 00:00:00.00   Length:239        \n",
            " Class :character   1st Qu.:2022-09-20 00:00:00.00   Class :character  \n",
            " Mode  :character   Median :2023-03-27 00:00:00.00   Mode  :character  \n",
            "                    Mean   :2023-02-16 18:52:43.18                     \n",
            "                    3rd Qu.:2023-05-18 00:00:00.00                     \n",
            "                    Max.   :2023-08-29 00:00:00.00                     \n",
            "   PTJE_taxon       ABUN_taxon    \n",
            " Min.   : 2.000   Min.   : 1.000  \n",
            " 1st Qu.: 6.000   1st Qu.: 1.000  \n",
            " Median : 7.000   Median : 2.000  \n",
            " Mean   : 6.715   Mean   : 3.163  \n",
            " 3rd Qu.: 8.000   3rd Qu.: 4.000  \n",
            " Max.   :10.000   Max.   :25.000  \n"
          ]
        }
      ]
    },
    {
      "cell_type": "markdown",
      "source": [
        "## **4. Cargar librerias**\n",
        "---"
      ],
      "metadata": {
        "id": "sH_5jmjmwV5M"
      }
    },
    {
      "cell_type": "code",
      "source": [
        "%%R\n",
        "install.packages(\"reshape2\")\n",
        "library(\"reshape2\")"
      ],
      "metadata": {
        "colab": {
          "base_uri": "https://localhost:8080/"
        },
        "id": "fL3NqKBGvq77",
        "outputId": "ff003f83-2903-42b1-8a3d-68cab1c2a62c"
      },
      "execution_count": 41,
      "outputs": [
        {
          "output_type": "stream",
          "name": "stderr",
          "text": [
            "WARNING:rpy2.rinterface_lib.callbacks:R[write to console]: Installing package into ‘/usr/local/lib/R/site-library’\n",
            "(as ‘lib’ is unspecified)\n",
            "\n",
            "WARNING:rpy2.rinterface_lib.callbacks:R[write to console]: trying URL 'https://cran.rstudio.com/src/contrib/reshape2_1.4.4.tar.gz'\n",
            "\n",
            "WARNING:rpy2.rinterface_lib.callbacks:R[write to console]: Content type 'application/x-gzip'\n",
            "WARNING:rpy2.rinterface_lib.callbacks:R[write to console]:  length 37307 bytes (36 KB)\n",
            "\n",
            "WARNING:rpy2.rinterface_lib.callbacks:R[write to console]: =\n",
            "WARNING:rpy2.rinterface_lib.callbacks:R[write to console]: =\n",
            "WARNING:rpy2.rinterface_lib.callbacks:R[write to console]: =\n",
            "WARNING:rpy2.rinterface_lib.callbacks:R[write to console]: =\n",
            "WARNING:rpy2.rinterface_lib.callbacks:R[write to console]: =\n",
            "WARNING:rpy2.rinterface_lib.callbacks:R[write to console]: =\n",
            "WARNING:rpy2.rinterface_lib.callbacks:R[write to console]: =\n",
            "WARNING:rpy2.rinterface_lib.callbacks:R[write to console]: =\n",
            "WARNING:rpy2.rinterface_lib.callbacks:R[write to console]: =\n",
            "WARNING:rpy2.rinterface_lib.callbacks:R[write to console]: =\n",
            "WARNING:rpy2.rinterface_lib.callbacks:R[write to console]: =\n",
            "WARNING:rpy2.rinterface_lib.callbacks:R[write to console]: =\n",
            "WARNING:rpy2.rinterface_lib.callbacks:R[write to console]: =\n",
            "WARNING:rpy2.rinterface_lib.callbacks:R[write to console]: =\n",
            "WARNING:rpy2.rinterface_lib.callbacks:R[write to console]: =\n",
            "WARNING:rpy2.rinterface_lib.callbacks:R[write to console]: =\n",
            "WARNING:rpy2.rinterface_lib.callbacks:R[write to console]: =\n",
            "WARNING:rpy2.rinterface_lib.callbacks:R[write to console]: =\n",
            "WARNING:rpy2.rinterface_lib.callbacks:R[write to console]: =\n",
            "WARNING:rpy2.rinterface_lib.callbacks:R[write to console]: =\n",
            "WARNING:rpy2.rinterface_lib.callbacks:R[write to console]: =\n",
            "WARNING:rpy2.rinterface_lib.callbacks:R[write to console]: =\n",
            "WARNING:rpy2.rinterface_lib.callbacks:R[write to console]: =\n",
            "WARNING:rpy2.rinterface_lib.callbacks:R[write to console]: =\n",
            "WARNING:rpy2.rinterface_lib.callbacks:R[write to console]: =\n",
            "WARNING:rpy2.rinterface_lib.callbacks:R[write to console]: =\n",
            "WARNING:rpy2.rinterface_lib.callbacks:R[write to console]: =\n",
            "WARNING:rpy2.rinterface_lib.callbacks:R[write to console]: =\n",
            "WARNING:rpy2.rinterface_lib.callbacks:R[write to console]: =\n",
            "WARNING:rpy2.rinterface_lib.callbacks:R[write to console]: =\n",
            "WARNING:rpy2.rinterface_lib.callbacks:R[write to console]: =\n",
            "WARNING:rpy2.rinterface_lib.callbacks:R[write to console]: =\n",
            "WARNING:rpy2.rinterface_lib.callbacks:R[write to console]: =\n",
            "WARNING:rpy2.rinterface_lib.callbacks:R[write to console]: =\n",
            "WARNING:rpy2.rinterface_lib.callbacks:R[write to console]: =\n",
            "WARNING:rpy2.rinterface_lib.callbacks:R[write to console]: =\n",
            "WARNING:rpy2.rinterface_lib.callbacks:R[write to console]: =\n",
            "WARNING:rpy2.rinterface_lib.callbacks:R[write to console]: =\n",
            "WARNING:rpy2.rinterface_lib.callbacks:R[write to console]: =\n",
            "WARNING:rpy2.rinterface_lib.callbacks:R[write to console]: =\n",
            "WARNING:rpy2.rinterface_lib.callbacks:R[write to console]: =\n",
            "WARNING:rpy2.rinterface_lib.callbacks:R[write to console]: =\n",
            "WARNING:rpy2.rinterface_lib.callbacks:R[write to console]: =\n",
            "WARNING:rpy2.rinterface_lib.callbacks:R[write to console]: =\n",
            "WARNING:rpy2.rinterface_lib.callbacks:R[write to console]: =\n",
            "WARNING:rpy2.rinterface_lib.callbacks:R[write to console]: =\n",
            "WARNING:rpy2.rinterface_lib.callbacks:R[write to console]: =\n",
            "WARNING:rpy2.rinterface_lib.callbacks:R[write to console]: =\n",
            "WARNING:rpy2.rinterface_lib.callbacks:R[write to console]: =\n",
            "WARNING:rpy2.rinterface_lib.callbacks:R[write to console]: =\n",
            "WARNING:rpy2.rinterface_lib.callbacks:R[write to console]: \n",
            "\n",
            "WARNING:rpy2.rinterface_lib.callbacks:R[write to console]: downloaded 36 KB\n",
            "\n",
            "\n",
            "WARNING:rpy2.rinterface_lib.callbacks:R[write to console]: \n",
            "\n",
            "WARNING:rpy2.rinterface_lib.callbacks:R[write to console]: \n",
            "WARNING:rpy2.rinterface_lib.callbacks:R[write to console]: The downloaded source packages are in\n",
            "\t‘/tmp/RtmpjzzfsQ/downloaded_packages’\n",
            "WARNING:rpy2.rinterface_lib.callbacks:R[write to console]: \n",
            "WARNING:rpy2.rinterface_lib.callbacks:R[write to console]: \n",
            "\n"
          ]
        }
      ]
    },
    {
      "cell_type": "code",
      "source": [
        "%%R\n",
        "install.packages(\"knitr\")\n",
        "library(\"knitr\")"
      ],
      "metadata": {
        "colab": {
          "base_uri": "https://localhost:8080/"
        },
        "id": "D4kbjhDoCIIp",
        "outputId": "e9dce8f1-ff7f-4505-c631-9157f5e6639f"
      },
      "execution_count": 42,
      "outputs": [
        {
          "output_type": "stream",
          "name": "stderr",
          "text": [
            "WARNING:rpy2.rinterface_lib.callbacks:R[write to console]: Installing package into ‘/usr/local/lib/R/site-library’\n",
            "(as ‘lib’ is unspecified)\n",
            "\n",
            "WARNING:rpy2.rinterface_lib.callbacks:R[write to console]: trying URL 'https://cran.rstudio.com/src/contrib/knitr_1.44.tar.gz'\n",
            "\n",
            "WARNING:rpy2.rinterface_lib.callbacks:R[write to console]: Content type 'application/x-gzip'\n",
            "WARNING:rpy2.rinterface_lib.callbacks:R[write to console]:  length 898526 bytes (877 KB)\n",
            "\n",
            "WARNING:rpy2.rinterface_lib.callbacks:R[write to console]: =\n",
            "WARNING:rpy2.rinterface_lib.callbacks:R[write to console]: =\n",
            "WARNING:rpy2.rinterface_lib.callbacks:R[write to console]: =\n",
            "WARNING:rpy2.rinterface_lib.callbacks:R[write to console]: =\n",
            "WARNING:rpy2.rinterface_lib.callbacks:R[write to console]: =\n",
            "WARNING:rpy2.rinterface_lib.callbacks:R[write to console]: =\n",
            "WARNING:rpy2.rinterface_lib.callbacks:R[write to console]: =\n",
            "WARNING:rpy2.rinterface_lib.callbacks:R[write to console]: =\n",
            "WARNING:rpy2.rinterface_lib.callbacks:R[write to console]: =\n",
            "WARNING:rpy2.rinterface_lib.callbacks:R[write to console]: =\n",
            "WARNING:rpy2.rinterface_lib.callbacks:R[write to console]: =\n",
            "WARNING:rpy2.rinterface_lib.callbacks:R[write to console]: =\n",
            "WARNING:rpy2.rinterface_lib.callbacks:R[write to console]: =\n",
            "WARNING:rpy2.rinterface_lib.callbacks:R[write to console]: =\n",
            "WARNING:rpy2.rinterface_lib.callbacks:R[write to console]: =\n",
            "WARNING:rpy2.rinterface_lib.callbacks:R[write to console]: =\n",
            "WARNING:rpy2.rinterface_lib.callbacks:R[write to console]: =\n",
            "WARNING:rpy2.rinterface_lib.callbacks:R[write to console]: =\n",
            "WARNING:rpy2.rinterface_lib.callbacks:R[write to console]: =\n",
            "WARNING:rpy2.rinterface_lib.callbacks:R[write to console]: =\n",
            "WARNING:rpy2.rinterface_lib.callbacks:R[write to console]: =\n",
            "WARNING:rpy2.rinterface_lib.callbacks:R[write to console]: =\n",
            "WARNING:rpy2.rinterface_lib.callbacks:R[write to console]: =\n",
            "WARNING:rpy2.rinterface_lib.callbacks:R[write to console]: =\n",
            "WARNING:rpy2.rinterface_lib.callbacks:R[write to console]: =\n",
            "WARNING:rpy2.rinterface_lib.callbacks:R[write to console]: =\n",
            "WARNING:rpy2.rinterface_lib.callbacks:R[write to console]: =\n",
            "WARNING:rpy2.rinterface_lib.callbacks:R[write to console]: =\n",
            "WARNING:rpy2.rinterface_lib.callbacks:R[write to console]: =\n",
            "WARNING:rpy2.rinterface_lib.callbacks:R[write to console]: =\n",
            "WARNING:rpy2.rinterface_lib.callbacks:R[write to console]: =\n",
            "WARNING:rpy2.rinterface_lib.callbacks:R[write to console]: =\n",
            "WARNING:rpy2.rinterface_lib.callbacks:R[write to console]: =\n",
            "WARNING:rpy2.rinterface_lib.callbacks:R[write to console]: =\n",
            "WARNING:rpy2.rinterface_lib.callbacks:R[write to console]: =\n",
            "WARNING:rpy2.rinterface_lib.callbacks:R[write to console]: =\n",
            "WARNING:rpy2.rinterface_lib.callbacks:R[write to console]: =\n",
            "WARNING:rpy2.rinterface_lib.callbacks:R[write to console]: =\n",
            "WARNING:rpy2.rinterface_lib.callbacks:R[write to console]: =\n",
            "WARNING:rpy2.rinterface_lib.callbacks:R[write to console]: =\n",
            "WARNING:rpy2.rinterface_lib.callbacks:R[write to console]: =\n",
            "WARNING:rpy2.rinterface_lib.callbacks:R[write to console]: =\n",
            "WARNING:rpy2.rinterface_lib.callbacks:R[write to console]: =\n",
            "WARNING:rpy2.rinterface_lib.callbacks:R[write to console]: =\n",
            "WARNING:rpy2.rinterface_lib.callbacks:R[write to console]: =\n",
            "WARNING:rpy2.rinterface_lib.callbacks:R[write to console]: =\n",
            "WARNING:rpy2.rinterface_lib.callbacks:R[write to console]: =\n",
            "WARNING:rpy2.rinterface_lib.callbacks:R[write to console]: =\n",
            "WARNING:rpy2.rinterface_lib.callbacks:R[write to console]: =\n",
            "WARNING:rpy2.rinterface_lib.callbacks:R[write to console]: =\n",
            "WARNING:rpy2.rinterface_lib.callbacks:R[write to console]: \n",
            "\n",
            "WARNING:rpy2.rinterface_lib.callbacks:R[write to console]: downloaded 877 KB\n",
            "\n",
            "\n",
            "WARNING:rpy2.rinterface_lib.callbacks:R[write to console]: \n",
            "\n",
            "WARNING:rpy2.rinterface_lib.callbacks:R[write to console]: \n",
            "WARNING:rpy2.rinterface_lib.callbacks:R[write to console]: The downloaded source packages are in\n",
            "\t‘/tmp/RtmpjzzfsQ/downloaded_packages’\n",
            "WARNING:rpy2.rinterface_lib.callbacks:R[write to console]: \n",
            "WARNING:rpy2.rinterface_lib.callbacks:R[write to console]: \n",
            "\n"
          ]
        }
      ]
    },
    {
      "cell_type": "code",
      "source": [
        "%%R\n",
        "install.packages(\"stringr\")\n",
        "library(\"stringr\")"
      ],
      "metadata": {
        "colab": {
          "base_uri": "https://localhost:8080/"
        },
        "id": "dnG9kG-ICNQ1",
        "outputId": "5e62decc-ead5-4e90-8d60-b0711cf3427c"
      },
      "execution_count": 43,
      "outputs": [
        {
          "output_type": "stream",
          "name": "stderr",
          "text": [
            "WARNING:rpy2.rinterface_lib.callbacks:R[write to console]: Installing package into ‘/usr/local/lib/R/site-library’\n",
            "(as ‘lib’ is unspecified)\n",
            "\n",
            "WARNING:rpy2.rinterface_lib.callbacks:R[write to console]: trying URL 'https://cran.rstudio.com/src/contrib/stringr_1.5.0.tar.gz'\n",
            "\n",
            "WARNING:rpy2.rinterface_lib.callbacks:R[write to console]: Content type 'application/x-gzip'\n",
            "WARNING:rpy2.rinterface_lib.callbacks:R[write to console]:  length 175699 bytes (171 KB)\n",
            "\n",
            "WARNING:rpy2.rinterface_lib.callbacks:R[write to console]: =\n",
            "WARNING:rpy2.rinterface_lib.callbacks:R[write to console]: =\n",
            "WARNING:rpy2.rinterface_lib.callbacks:R[write to console]: =\n",
            "WARNING:rpy2.rinterface_lib.callbacks:R[write to console]: =\n",
            "WARNING:rpy2.rinterface_lib.callbacks:R[write to console]: =\n",
            "WARNING:rpy2.rinterface_lib.callbacks:R[write to console]: =\n",
            "WARNING:rpy2.rinterface_lib.callbacks:R[write to console]: =\n",
            "WARNING:rpy2.rinterface_lib.callbacks:R[write to console]: =\n",
            "WARNING:rpy2.rinterface_lib.callbacks:R[write to console]: =\n",
            "WARNING:rpy2.rinterface_lib.callbacks:R[write to console]: =\n",
            "WARNING:rpy2.rinterface_lib.callbacks:R[write to console]: =\n",
            "WARNING:rpy2.rinterface_lib.callbacks:R[write to console]: =\n",
            "WARNING:rpy2.rinterface_lib.callbacks:R[write to console]: =\n",
            "WARNING:rpy2.rinterface_lib.callbacks:R[write to console]: =\n",
            "WARNING:rpy2.rinterface_lib.callbacks:R[write to console]: =\n",
            "WARNING:rpy2.rinterface_lib.callbacks:R[write to console]: =\n",
            "WARNING:rpy2.rinterface_lib.callbacks:R[write to console]: =\n",
            "WARNING:rpy2.rinterface_lib.callbacks:R[write to console]: =\n",
            "WARNING:rpy2.rinterface_lib.callbacks:R[write to console]: =\n",
            "WARNING:rpy2.rinterface_lib.callbacks:R[write to console]: =\n",
            "WARNING:rpy2.rinterface_lib.callbacks:R[write to console]: =\n",
            "WARNING:rpy2.rinterface_lib.callbacks:R[write to console]: =\n",
            "WARNING:rpy2.rinterface_lib.callbacks:R[write to console]: =\n",
            "WARNING:rpy2.rinterface_lib.callbacks:R[write to console]: =\n",
            "WARNING:rpy2.rinterface_lib.callbacks:R[write to console]: =\n",
            "WARNING:rpy2.rinterface_lib.callbacks:R[write to console]: =\n",
            "WARNING:rpy2.rinterface_lib.callbacks:R[write to console]: =\n",
            "WARNING:rpy2.rinterface_lib.callbacks:R[write to console]: =\n",
            "WARNING:rpy2.rinterface_lib.callbacks:R[write to console]: =\n",
            "WARNING:rpy2.rinterface_lib.callbacks:R[write to console]: =\n",
            "WARNING:rpy2.rinterface_lib.callbacks:R[write to console]: =\n",
            "WARNING:rpy2.rinterface_lib.callbacks:R[write to console]: =\n",
            "WARNING:rpy2.rinterface_lib.callbacks:R[write to console]: =\n",
            "WARNING:rpy2.rinterface_lib.callbacks:R[write to console]: =\n",
            "WARNING:rpy2.rinterface_lib.callbacks:R[write to console]: =\n",
            "WARNING:rpy2.rinterface_lib.callbacks:R[write to console]: =\n",
            "WARNING:rpy2.rinterface_lib.callbacks:R[write to console]: =\n",
            "WARNING:rpy2.rinterface_lib.callbacks:R[write to console]: =\n",
            "WARNING:rpy2.rinterface_lib.callbacks:R[write to console]: =\n",
            "WARNING:rpy2.rinterface_lib.callbacks:R[write to console]: =\n",
            "WARNING:rpy2.rinterface_lib.callbacks:R[write to console]: =\n",
            "WARNING:rpy2.rinterface_lib.callbacks:R[write to console]: =\n",
            "WARNING:rpy2.rinterface_lib.callbacks:R[write to console]: =\n",
            "WARNING:rpy2.rinterface_lib.callbacks:R[write to console]: =\n",
            "WARNING:rpy2.rinterface_lib.callbacks:R[write to console]: =\n",
            "WARNING:rpy2.rinterface_lib.callbacks:R[write to console]: =\n",
            "WARNING:rpy2.rinterface_lib.callbacks:R[write to console]: =\n",
            "WARNING:rpy2.rinterface_lib.callbacks:R[write to console]: =\n",
            "WARNING:rpy2.rinterface_lib.callbacks:R[write to console]: =\n",
            "WARNING:rpy2.rinterface_lib.callbacks:R[write to console]: =\n",
            "WARNING:rpy2.rinterface_lib.callbacks:R[write to console]: \n",
            "\n",
            "WARNING:rpy2.rinterface_lib.callbacks:R[write to console]: downloaded 171 KB\n",
            "\n",
            "\n",
            "WARNING:rpy2.rinterface_lib.callbacks:R[write to console]: \n",
            "\n",
            "WARNING:rpy2.rinterface_lib.callbacks:R[write to console]: \n",
            "WARNING:rpy2.rinterface_lib.callbacks:R[write to console]: The downloaded source packages are in\n",
            "\t‘/tmp/RtmpjzzfsQ/downloaded_packages’\n",
            "WARNING:rpy2.rinterface_lib.callbacks:R[write to console]: \n",
            "WARNING:rpy2.rinterface_lib.callbacks:R[write to console]: \n",
            "\n"
          ]
        }
      ]
    },
    {
      "cell_type": "code",
      "source": [
        "%%R\n",
        "install.packages(\"dplyr\")\n",
        "library(\"dplyr\")"
      ],
      "metadata": {
        "colab": {
          "base_uri": "https://localhost:8080/"
        },
        "id": "_an6qi_xCSgP",
        "outputId": "400a2db9-4a10-42a5-8aed-3c16ba3b0752"
      },
      "execution_count": 44,
      "outputs": [
        {
          "output_type": "stream",
          "name": "stderr",
          "text": [
            "WARNING:rpy2.rinterface_lib.callbacks:R[write to console]: Installing package into ‘/usr/local/lib/R/site-library’\n",
            "(as ‘lib’ is unspecified)\n",
            "\n",
            "WARNING:rpy2.rinterface_lib.callbacks:R[write to console]: trying URL 'https://cran.rstudio.com/src/contrib/dplyr_1.1.3.tar.gz'\n",
            "\n",
            "WARNING:rpy2.rinterface_lib.callbacks:R[write to console]: Content type 'application/x-gzip'\n",
            "WARNING:rpy2.rinterface_lib.callbacks:R[write to console]:  length 1083635 bytes (1.0 MB)\n",
            "\n",
            "WARNING:rpy2.rinterface_lib.callbacks:R[write to console]: =\n",
            "WARNING:rpy2.rinterface_lib.callbacks:R[write to console]: =\n",
            "WARNING:rpy2.rinterface_lib.callbacks:R[write to console]: =\n",
            "WARNING:rpy2.rinterface_lib.callbacks:R[write to console]: =\n",
            "WARNING:rpy2.rinterface_lib.callbacks:R[write to console]: =\n",
            "WARNING:rpy2.rinterface_lib.callbacks:R[write to console]: =\n",
            "WARNING:rpy2.rinterface_lib.callbacks:R[write to console]: =\n",
            "WARNING:rpy2.rinterface_lib.callbacks:R[write to console]: =\n",
            "WARNING:rpy2.rinterface_lib.callbacks:R[write to console]: =\n",
            "WARNING:rpy2.rinterface_lib.callbacks:R[write to console]: =\n",
            "WARNING:rpy2.rinterface_lib.callbacks:R[write to console]: =\n",
            "WARNING:rpy2.rinterface_lib.callbacks:R[write to console]: =\n",
            "WARNING:rpy2.rinterface_lib.callbacks:R[write to console]: =\n",
            "WARNING:rpy2.rinterface_lib.callbacks:R[write to console]: =\n",
            "WARNING:rpy2.rinterface_lib.callbacks:R[write to console]: =\n",
            "WARNING:rpy2.rinterface_lib.callbacks:R[write to console]: =\n",
            "WARNING:rpy2.rinterface_lib.callbacks:R[write to console]: =\n",
            "WARNING:rpy2.rinterface_lib.callbacks:R[write to console]: =\n",
            "WARNING:rpy2.rinterface_lib.callbacks:R[write to console]: =\n",
            "WARNING:rpy2.rinterface_lib.callbacks:R[write to console]: =\n",
            "WARNING:rpy2.rinterface_lib.callbacks:R[write to console]: =\n",
            "WARNING:rpy2.rinterface_lib.callbacks:R[write to console]: =\n",
            "WARNING:rpy2.rinterface_lib.callbacks:R[write to console]: =\n",
            "WARNING:rpy2.rinterface_lib.callbacks:R[write to console]: =\n",
            "WARNING:rpy2.rinterface_lib.callbacks:R[write to console]: =\n",
            "WARNING:rpy2.rinterface_lib.callbacks:R[write to console]: =\n",
            "WARNING:rpy2.rinterface_lib.callbacks:R[write to console]: =\n",
            "WARNING:rpy2.rinterface_lib.callbacks:R[write to console]: =\n",
            "WARNING:rpy2.rinterface_lib.callbacks:R[write to console]: =\n",
            "WARNING:rpy2.rinterface_lib.callbacks:R[write to console]: =\n",
            "WARNING:rpy2.rinterface_lib.callbacks:R[write to console]: =\n",
            "WARNING:rpy2.rinterface_lib.callbacks:R[write to console]: =\n",
            "WARNING:rpy2.rinterface_lib.callbacks:R[write to console]: =\n",
            "WARNING:rpy2.rinterface_lib.callbacks:R[write to console]: =\n",
            "WARNING:rpy2.rinterface_lib.callbacks:R[write to console]: =\n",
            "WARNING:rpy2.rinterface_lib.callbacks:R[write to console]: =\n",
            "WARNING:rpy2.rinterface_lib.callbacks:R[write to console]: =\n",
            "WARNING:rpy2.rinterface_lib.callbacks:R[write to console]: =\n",
            "WARNING:rpy2.rinterface_lib.callbacks:R[write to console]: =\n",
            "WARNING:rpy2.rinterface_lib.callbacks:R[write to console]: =\n",
            "WARNING:rpy2.rinterface_lib.callbacks:R[write to console]: =\n",
            "WARNING:rpy2.rinterface_lib.callbacks:R[write to console]: =\n",
            "WARNING:rpy2.rinterface_lib.callbacks:R[write to console]: =\n",
            "WARNING:rpy2.rinterface_lib.callbacks:R[write to console]: =\n",
            "WARNING:rpy2.rinterface_lib.callbacks:R[write to console]: =\n",
            "WARNING:rpy2.rinterface_lib.callbacks:R[write to console]: =\n",
            "WARNING:rpy2.rinterface_lib.callbacks:R[write to console]: =\n",
            "WARNING:rpy2.rinterface_lib.callbacks:R[write to console]: =\n",
            "WARNING:rpy2.rinterface_lib.callbacks:R[write to console]: =\n",
            "WARNING:rpy2.rinterface_lib.callbacks:R[write to console]: =\n",
            "WARNING:rpy2.rinterface_lib.callbacks:R[write to console]: \n",
            "\n",
            "WARNING:rpy2.rinterface_lib.callbacks:R[write to console]: downloaded 1.0 MB\n",
            "\n",
            "\n",
            "WARNING:rpy2.rinterface_lib.callbacks:R[write to console]: \n",
            "\n",
            "WARNING:rpy2.rinterface_lib.callbacks:R[write to console]: \n",
            "WARNING:rpy2.rinterface_lib.callbacks:R[write to console]: The downloaded source packages are in\n",
            "\t‘/tmp/RtmpjzzfsQ/downloaded_packages’\n",
            "WARNING:rpy2.rinterface_lib.callbacks:R[write to console]: \n",
            "WARNING:rpy2.rinterface_lib.callbacks:R[write to console]: \n",
            "\n"
          ]
        }
      ]
    },
    {
      "cell_type": "code",
      "source": [
        "%%R\n",
        "install.packages(\"plyr\")\n",
        "library(\"plyr\")"
      ],
      "metadata": {
        "colab": {
          "base_uri": "https://localhost:8080/"
        },
        "id": "wBCwIsw9H7LU",
        "outputId": "1d567e75-afd1-4391-fe00-3edae27f66c7"
      },
      "execution_count": 45,
      "outputs": [
        {
          "output_type": "stream",
          "name": "stderr",
          "text": [
            "WARNING:rpy2.rinterface_lib.callbacks:R[write to console]: Installing package into ‘/usr/local/lib/R/site-library’\n",
            "(as ‘lib’ is unspecified)\n",
            "\n",
            "WARNING:rpy2.rinterface_lib.callbacks:R[write to console]: trying URL 'https://cran.rstudio.com/src/contrib/plyr_1.8.9.tar.gz'\n",
            "\n",
            "WARNING:rpy2.rinterface_lib.callbacks:R[write to console]: Content type 'application/x-gzip'\n",
            "WARNING:rpy2.rinterface_lib.callbacks:R[write to console]:  length 401488 bytes (392 KB)\n",
            "\n",
            "WARNING:rpy2.rinterface_lib.callbacks:R[write to console]: =\n",
            "WARNING:rpy2.rinterface_lib.callbacks:R[write to console]: =\n",
            "WARNING:rpy2.rinterface_lib.callbacks:R[write to console]: =\n",
            "WARNING:rpy2.rinterface_lib.callbacks:R[write to console]: =\n",
            "WARNING:rpy2.rinterface_lib.callbacks:R[write to console]: =\n",
            "WARNING:rpy2.rinterface_lib.callbacks:R[write to console]: =\n",
            "WARNING:rpy2.rinterface_lib.callbacks:R[write to console]: =\n",
            "WARNING:rpy2.rinterface_lib.callbacks:R[write to console]: =\n",
            "WARNING:rpy2.rinterface_lib.callbacks:R[write to console]: =\n",
            "WARNING:rpy2.rinterface_lib.callbacks:R[write to console]: =\n",
            "WARNING:rpy2.rinterface_lib.callbacks:R[write to console]: =\n",
            "WARNING:rpy2.rinterface_lib.callbacks:R[write to console]: =\n",
            "WARNING:rpy2.rinterface_lib.callbacks:R[write to console]: =\n",
            "WARNING:rpy2.rinterface_lib.callbacks:R[write to console]: =\n",
            "WARNING:rpy2.rinterface_lib.callbacks:R[write to console]: =\n",
            "WARNING:rpy2.rinterface_lib.callbacks:R[write to console]: =\n",
            "WARNING:rpy2.rinterface_lib.callbacks:R[write to console]: =\n",
            "WARNING:rpy2.rinterface_lib.callbacks:R[write to console]: =\n",
            "WARNING:rpy2.rinterface_lib.callbacks:R[write to console]: =\n",
            "WARNING:rpy2.rinterface_lib.callbacks:R[write to console]: =\n",
            "WARNING:rpy2.rinterface_lib.callbacks:R[write to console]: =\n",
            "WARNING:rpy2.rinterface_lib.callbacks:R[write to console]: =\n",
            "WARNING:rpy2.rinterface_lib.callbacks:R[write to console]: =\n",
            "WARNING:rpy2.rinterface_lib.callbacks:R[write to console]: =\n",
            "WARNING:rpy2.rinterface_lib.callbacks:R[write to console]: =\n",
            "WARNING:rpy2.rinterface_lib.callbacks:R[write to console]: =\n",
            "WARNING:rpy2.rinterface_lib.callbacks:R[write to console]: =\n",
            "WARNING:rpy2.rinterface_lib.callbacks:R[write to console]: =\n",
            "WARNING:rpy2.rinterface_lib.callbacks:R[write to console]: =\n",
            "WARNING:rpy2.rinterface_lib.callbacks:R[write to console]: =\n",
            "WARNING:rpy2.rinterface_lib.callbacks:R[write to console]: =\n",
            "WARNING:rpy2.rinterface_lib.callbacks:R[write to console]: =\n",
            "WARNING:rpy2.rinterface_lib.callbacks:R[write to console]: =\n",
            "WARNING:rpy2.rinterface_lib.callbacks:R[write to console]: =\n",
            "WARNING:rpy2.rinterface_lib.callbacks:R[write to console]: =\n",
            "WARNING:rpy2.rinterface_lib.callbacks:R[write to console]: =\n",
            "WARNING:rpy2.rinterface_lib.callbacks:R[write to console]: =\n",
            "WARNING:rpy2.rinterface_lib.callbacks:R[write to console]: =\n",
            "WARNING:rpy2.rinterface_lib.callbacks:R[write to console]: =\n",
            "WARNING:rpy2.rinterface_lib.callbacks:R[write to console]: =\n",
            "WARNING:rpy2.rinterface_lib.callbacks:R[write to console]: =\n",
            "WARNING:rpy2.rinterface_lib.callbacks:R[write to console]: =\n",
            "WARNING:rpy2.rinterface_lib.callbacks:R[write to console]: =\n",
            "WARNING:rpy2.rinterface_lib.callbacks:R[write to console]: =\n",
            "WARNING:rpy2.rinterface_lib.callbacks:R[write to console]: =\n",
            "WARNING:rpy2.rinterface_lib.callbacks:R[write to console]: =\n",
            "WARNING:rpy2.rinterface_lib.callbacks:R[write to console]: =\n",
            "WARNING:rpy2.rinterface_lib.callbacks:R[write to console]: =\n",
            "WARNING:rpy2.rinterface_lib.callbacks:R[write to console]: =\n",
            "WARNING:rpy2.rinterface_lib.callbacks:R[write to console]: =\n",
            "WARNING:rpy2.rinterface_lib.callbacks:R[write to console]: \n",
            "\n",
            "WARNING:rpy2.rinterface_lib.callbacks:R[write to console]: downloaded 392 KB\n",
            "\n",
            "\n",
            "WARNING:rpy2.rinterface_lib.callbacks:R[write to console]: \n",
            "\n",
            "WARNING:rpy2.rinterface_lib.callbacks:R[write to console]: \n",
            "WARNING:rpy2.rinterface_lib.callbacks:R[write to console]: The downloaded source packages are in\n",
            "\t‘/tmp/RtmpjzzfsQ/downloaded_packages’\n",
            "WARNING:rpy2.rinterface_lib.callbacks:R[write to console]: \n",
            "WARNING:rpy2.rinterface_lib.callbacks:R[write to console]: \n",
            "\n"
          ]
        }
      ]
    },
    {
      "cell_type": "code",
      "source": [
        "%%R\n",
        "install.packages(\"plotly\")\n",
        "library(plotly)"
      ],
      "metadata": {
        "colab": {
          "base_uri": "https://localhost:8080/"
        },
        "id": "bELmWTzZCiAx",
        "outputId": "3293c88d-d956-4395-8e59-00a11e12000d"
      },
      "execution_count": 46,
      "outputs": [
        {
          "output_type": "stream",
          "name": "stderr",
          "text": [
            "WARNING:rpy2.rinterface_lib.callbacks:R[write to console]: Installing package into ‘/usr/local/lib/R/site-library’\n",
            "(as ‘lib’ is unspecified)\n",
            "\n",
            "WARNING:rpy2.rinterface_lib.callbacks:R[write to console]: trying URL 'https://cran.rstudio.com/src/contrib/plotly_4.10.2.tar.gz'\n",
            "\n",
            "WARNING:rpy2.rinterface_lib.callbacks:R[write to console]: Content type 'application/x-gzip'\n",
            "WARNING:rpy2.rinterface_lib.callbacks:R[write to console]:  length 3902837 bytes (3.7 MB)\n",
            "\n",
            "WARNING:rpy2.rinterface_lib.callbacks:R[write to console]: =\n",
            "WARNING:rpy2.rinterface_lib.callbacks:R[write to console]: =\n",
            "WARNING:rpy2.rinterface_lib.callbacks:R[write to console]: =\n",
            "WARNING:rpy2.rinterface_lib.callbacks:R[write to console]: =\n",
            "WARNING:rpy2.rinterface_lib.callbacks:R[write to console]: =\n",
            "WARNING:rpy2.rinterface_lib.callbacks:R[write to console]: =\n",
            "WARNING:rpy2.rinterface_lib.callbacks:R[write to console]: =\n",
            "WARNING:rpy2.rinterface_lib.callbacks:R[write to console]: =\n",
            "WARNING:rpy2.rinterface_lib.callbacks:R[write to console]: =\n",
            "WARNING:rpy2.rinterface_lib.callbacks:R[write to console]: =\n",
            "WARNING:rpy2.rinterface_lib.callbacks:R[write to console]: =\n",
            "WARNING:rpy2.rinterface_lib.callbacks:R[write to console]: =\n",
            "WARNING:rpy2.rinterface_lib.callbacks:R[write to console]: =\n",
            "WARNING:rpy2.rinterface_lib.callbacks:R[write to console]: =\n",
            "WARNING:rpy2.rinterface_lib.callbacks:R[write to console]: =\n",
            "WARNING:rpy2.rinterface_lib.callbacks:R[write to console]: =\n",
            "WARNING:rpy2.rinterface_lib.callbacks:R[write to console]: =\n",
            "WARNING:rpy2.rinterface_lib.callbacks:R[write to console]: =\n",
            "WARNING:rpy2.rinterface_lib.callbacks:R[write to console]: =\n",
            "WARNING:rpy2.rinterface_lib.callbacks:R[write to console]: =\n",
            "WARNING:rpy2.rinterface_lib.callbacks:R[write to console]: =\n",
            "WARNING:rpy2.rinterface_lib.callbacks:R[write to console]: =\n",
            "WARNING:rpy2.rinterface_lib.callbacks:R[write to console]: =\n",
            "WARNING:rpy2.rinterface_lib.callbacks:R[write to console]: =\n",
            "WARNING:rpy2.rinterface_lib.callbacks:R[write to console]: =\n",
            "WARNING:rpy2.rinterface_lib.callbacks:R[write to console]: =\n",
            "WARNING:rpy2.rinterface_lib.callbacks:R[write to console]: =\n",
            "WARNING:rpy2.rinterface_lib.callbacks:R[write to console]: =\n",
            "WARNING:rpy2.rinterface_lib.callbacks:R[write to console]: =\n",
            "WARNING:rpy2.rinterface_lib.callbacks:R[write to console]: =\n",
            "WARNING:rpy2.rinterface_lib.callbacks:R[write to console]: =\n",
            "WARNING:rpy2.rinterface_lib.callbacks:R[write to console]: =\n",
            "WARNING:rpy2.rinterface_lib.callbacks:R[write to console]: =\n",
            "WARNING:rpy2.rinterface_lib.callbacks:R[write to console]: =\n",
            "WARNING:rpy2.rinterface_lib.callbacks:R[write to console]: =\n",
            "WARNING:rpy2.rinterface_lib.callbacks:R[write to console]: =\n",
            "WARNING:rpy2.rinterface_lib.callbacks:R[write to console]: =\n",
            "WARNING:rpy2.rinterface_lib.callbacks:R[write to console]: =\n",
            "WARNING:rpy2.rinterface_lib.callbacks:R[write to console]: =\n",
            "WARNING:rpy2.rinterface_lib.callbacks:R[write to console]: =\n",
            "WARNING:rpy2.rinterface_lib.callbacks:R[write to console]: =\n",
            "WARNING:rpy2.rinterface_lib.callbacks:R[write to console]: =\n",
            "WARNING:rpy2.rinterface_lib.callbacks:R[write to console]: =\n",
            "WARNING:rpy2.rinterface_lib.callbacks:R[write to console]: =\n",
            "WARNING:rpy2.rinterface_lib.callbacks:R[write to console]: =\n",
            "WARNING:rpy2.rinterface_lib.callbacks:R[write to console]: =\n",
            "WARNING:rpy2.rinterface_lib.callbacks:R[write to console]: =\n",
            "WARNING:rpy2.rinterface_lib.callbacks:R[write to console]: =\n",
            "WARNING:rpy2.rinterface_lib.callbacks:R[write to console]: =\n",
            "WARNING:rpy2.rinterface_lib.callbacks:R[write to console]: =\n",
            "WARNING:rpy2.rinterface_lib.callbacks:R[write to console]: \n",
            "\n",
            "WARNING:rpy2.rinterface_lib.callbacks:R[write to console]: downloaded 3.7 MB\n",
            "\n",
            "\n",
            "WARNING:rpy2.rinterface_lib.callbacks:R[write to console]: \n",
            "\n",
            "WARNING:rpy2.rinterface_lib.callbacks:R[write to console]: \n",
            "WARNING:rpy2.rinterface_lib.callbacks:R[write to console]: The downloaded source packages are in\n",
            "\t‘/tmp/RtmpjzzfsQ/downloaded_packages’\n",
            "WARNING:rpy2.rinterface_lib.callbacks:R[write to console]: \n",
            "WARNING:rpy2.rinterface_lib.callbacks:R[write to console]: \n",
            "\n"
          ]
        }
      ]
    },
    {
      "cell_type": "code",
      "source": [
        "%%R\n",
        "install.packages(\"ggplot2\")\n",
        "library(ggplot2)"
      ],
      "metadata": {
        "colab": {
          "base_uri": "https://localhost:8080/"
        },
        "id": "B8eFVe_dCjr_",
        "outputId": "f95266f9-a0bb-47c8-fc38-436a8cac8af0"
      },
      "execution_count": 47,
      "outputs": [
        {
          "output_type": "stream",
          "name": "stderr",
          "text": [
            "WARNING:rpy2.rinterface_lib.callbacks:R[write to console]: Installing package into ‘/usr/local/lib/R/site-library’\n",
            "(as ‘lib’ is unspecified)\n",
            "\n",
            "WARNING:rpy2.rinterface_lib.callbacks:R[write to console]: trying URL 'https://cran.rstudio.com/src/contrib/ggplot2_3.4.4.tar.gz'\n",
            "\n",
            "WARNING:rpy2.rinterface_lib.callbacks:R[write to console]: Content type 'application/x-gzip'\n",
            "WARNING:rpy2.rinterface_lib.callbacks:R[write to console]:  length 3159578 bytes (3.0 MB)\n",
            "\n",
            "WARNING:rpy2.rinterface_lib.callbacks:R[write to console]: =\n",
            "WARNING:rpy2.rinterface_lib.callbacks:R[write to console]: =\n",
            "WARNING:rpy2.rinterface_lib.callbacks:R[write to console]: =\n",
            "WARNING:rpy2.rinterface_lib.callbacks:R[write to console]: =\n",
            "WARNING:rpy2.rinterface_lib.callbacks:R[write to console]: =\n",
            "WARNING:rpy2.rinterface_lib.callbacks:R[write to console]: =\n",
            "WARNING:rpy2.rinterface_lib.callbacks:R[write to console]: =\n",
            "WARNING:rpy2.rinterface_lib.callbacks:R[write to console]: =\n",
            "WARNING:rpy2.rinterface_lib.callbacks:R[write to console]: =\n",
            "WARNING:rpy2.rinterface_lib.callbacks:R[write to console]: =\n",
            "WARNING:rpy2.rinterface_lib.callbacks:R[write to console]: =\n",
            "WARNING:rpy2.rinterface_lib.callbacks:R[write to console]: =\n",
            "WARNING:rpy2.rinterface_lib.callbacks:R[write to console]: =\n",
            "WARNING:rpy2.rinterface_lib.callbacks:R[write to console]: =\n",
            "WARNING:rpy2.rinterface_lib.callbacks:R[write to console]: =\n",
            "WARNING:rpy2.rinterface_lib.callbacks:R[write to console]: =\n",
            "WARNING:rpy2.rinterface_lib.callbacks:R[write to console]: =\n",
            "WARNING:rpy2.rinterface_lib.callbacks:R[write to console]: =\n",
            "WARNING:rpy2.rinterface_lib.callbacks:R[write to console]: =\n",
            "WARNING:rpy2.rinterface_lib.callbacks:R[write to console]: =\n",
            "WARNING:rpy2.rinterface_lib.callbacks:R[write to console]: =\n",
            "WARNING:rpy2.rinterface_lib.callbacks:R[write to console]: =\n",
            "WARNING:rpy2.rinterface_lib.callbacks:R[write to console]: =\n",
            "WARNING:rpy2.rinterface_lib.callbacks:R[write to console]: =\n",
            "WARNING:rpy2.rinterface_lib.callbacks:R[write to console]: =\n",
            "WARNING:rpy2.rinterface_lib.callbacks:R[write to console]: =\n",
            "WARNING:rpy2.rinterface_lib.callbacks:R[write to console]: =\n",
            "WARNING:rpy2.rinterface_lib.callbacks:R[write to console]: =\n",
            "WARNING:rpy2.rinterface_lib.callbacks:R[write to console]: =\n",
            "WARNING:rpy2.rinterface_lib.callbacks:R[write to console]: =\n",
            "WARNING:rpy2.rinterface_lib.callbacks:R[write to console]: =\n",
            "WARNING:rpy2.rinterface_lib.callbacks:R[write to console]: =\n",
            "WARNING:rpy2.rinterface_lib.callbacks:R[write to console]: =\n",
            "WARNING:rpy2.rinterface_lib.callbacks:R[write to console]: =\n",
            "WARNING:rpy2.rinterface_lib.callbacks:R[write to console]: =\n",
            "WARNING:rpy2.rinterface_lib.callbacks:R[write to console]: =\n",
            "WARNING:rpy2.rinterface_lib.callbacks:R[write to console]: =\n",
            "WARNING:rpy2.rinterface_lib.callbacks:R[write to console]: =\n",
            "WARNING:rpy2.rinterface_lib.callbacks:R[write to console]: =\n",
            "WARNING:rpy2.rinterface_lib.callbacks:R[write to console]: =\n",
            "WARNING:rpy2.rinterface_lib.callbacks:R[write to console]: =\n",
            "WARNING:rpy2.rinterface_lib.callbacks:R[write to console]: =\n",
            "WARNING:rpy2.rinterface_lib.callbacks:R[write to console]: =\n",
            "WARNING:rpy2.rinterface_lib.callbacks:R[write to console]: =\n",
            "WARNING:rpy2.rinterface_lib.callbacks:R[write to console]: =\n",
            "WARNING:rpy2.rinterface_lib.callbacks:R[write to console]: =\n",
            "WARNING:rpy2.rinterface_lib.callbacks:R[write to console]: =\n",
            "WARNING:rpy2.rinterface_lib.callbacks:R[write to console]: =\n",
            "WARNING:rpy2.rinterface_lib.callbacks:R[write to console]: =\n",
            "WARNING:rpy2.rinterface_lib.callbacks:R[write to console]: =\n",
            "WARNING:rpy2.rinterface_lib.callbacks:R[write to console]: \n",
            "\n",
            "WARNING:rpy2.rinterface_lib.callbacks:R[write to console]: downloaded 3.0 MB\n",
            "\n",
            "\n",
            "WARNING:rpy2.rinterface_lib.callbacks:R[write to console]: \n",
            "\n",
            "WARNING:rpy2.rinterface_lib.callbacks:R[write to console]: \n",
            "WARNING:rpy2.rinterface_lib.callbacks:R[write to console]: The downloaded source packages are in\n",
            "\t‘/tmp/RtmpjzzfsQ/downloaded_packages’\n",
            "WARNING:rpy2.rinterface_lib.callbacks:R[write to console]: \n",
            "WARNING:rpy2.rinterface_lib.callbacks:R[write to console]: \n",
            "\n"
          ]
        }
      ]
    },
    {
      "cell_type": "markdown",
      "source": [
        "## **5. Análisis de datos**\n",
        "---\n",
        "\n",
        "En este script se hacen los cálculos para estimar índices a partir de los datos crudos de monitoreo ambiental comunitario."
      ],
      "metadata": {
        "id": "fOTORvWwHKx5"
      }
    },
    {
      "cell_type": "markdown",
      "source": [
        "### 5.1 Cálculo de índices BWMP y ASTP\n",
        "---\n",
        "\n",
        "El bioindicador el BMWP/col (Biological Monitoring Working Party / Colombia), utiliza la proporción de taxones sensibles a contaminantes bajo una clasificación aprobada para los ríos colombianosadaptado para Colombia por Roldan (2003). El indicador ASTP (Average Score per Taxon) resulta de ponderar BMWP por el numero de taxones."
      ],
      "metadata": {
        "id": "3DwEgSnLNqOF"
      }
    },
    {
      "cell_type": "code",
      "source": [
        "# Multiplicar cantidad de familias por puntaje. Crear dataframe de resultados y añadirle el calculo del Indicador BMWP\n",
        "%%R\n",
        "nt_SFP$sub_BMWP <- nt_SFP$nt_SFP*nt_SFP$PTJE_taxon\n",
        "resultado <- aggregate(sub_BMWP ~ PTO_id + FCH, data = nt_SFP, FUN = sum, na.rm = TRUE)\n",
        "names (resultado)[3] = \"BMWP_col\"\n",
        "as.Date(resultado$FCH, format=\"%d/%m/%Y\")\n",
        "arrange(resultado,PTO_id,FCH)\n",
        "head(resultado)"
      ],
      "metadata": {
        "colab": {
          "base_uri": "https://localhost:8080/"
        },
        "id": "rBOf3qcwGu4U",
        "outputId": "d26ba670-849b-4a37-d742-090ab11cbe87"
      },
      "execution_count": 56,
      "outputs": [
        {
          "output_type": "stream",
          "name": "stdout",
          "text": [
            "  PTO_id        FCH BMWP_col\n",
            "1      C 2022-07-23       58\n",
            "2      D 2022-07-23       36\n",
            "3      E 2022-07-23       63\n",
            "4      P 2022-07-23       89\n",
            "5      T 2022-07-23       44\n",
            "6      D 2022-08-20       19\n"
          ]
        }
      ]
    },
    {
      "cell_type": "code",
      "source": [
        "# Crear interpretación de BMWP con un control de flujo\n",
        "\n",
        "%%R\n",
        "BMWP_int<-c()\n",
        "for(i in resultado$BMWP_col){\n",
        "  BMWP_int<-c(BMWP_int, if(i<=15){\n",
        "    \"Muy critica\"\n",
        "  } else if (15 <i & i <= 36){\n",
        "    \"Critica\"\n",
        "  }\n",
        "  else if (36 <i & i <= 60){\n",
        "    \"Aceptable\"\n",
        "  }\n",
        "  else if (60 <i & i <= 100){\n",
        "    \"Buena\"\n",
        "  } else {\"Excelente\"}\n",
        "  )\n",
        "}\n",
        "head(BMWP_int)"
      ],
      "metadata": {
        "colab": {
          "base_uri": "https://localhost:8080/"
        },
        "id": "1JqT8CKaGzVe",
        "outputId": "583711e6-bb07-4f2f-9aba-48f5137c5692"
      },
      "execution_count": 57,
      "outputs": [
        {
          "output_type": "stream",
          "name": "stdout",
          "text": [
            "[1] \"Aceptable\" \"Critica\"   \"Buena\"     \"Buena\"     \"Aceptable\" \"Critica\"  \n"
          ]
        }
      ]
    },
    {
      "cell_type": "code",
      "source": [
        "# Añadir columna de interpretacion del BMWP en el dataframe. Renombrar el dataframe, ahora se llama \"resultado\"\n",
        "%%R\n",
        "resultado$BMWP_int<-BMWP_int\n",
        "head(resultado)"
      ],
      "metadata": {
        "colab": {
          "base_uri": "https://localhost:8080/"
        },
        "id": "wBRboTW6G3Ph",
        "outputId": "1681358d-7b73-4321-8813-572afe339cca"
      },
      "execution_count": 58,
      "outputs": [
        {
          "output_type": "stream",
          "name": "stdout",
          "text": [
            "  PTO_id        FCH BMWP_col  BMWP_int\n",
            "1      C 2022-07-23       58 Aceptable\n",
            "2      D 2022-07-23       36   Critica\n",
            "3      E 2022-07-23       63     Buena\n",
            "4      P 2022-07-23       89     Buena\n",
            "5      T 2022-07-23       44 Aceptable\n",
            "6      D 2022-08-20       19   Critica\n"
          ]
        }
      ]
    },
    {
      "cell_type": "code",
      "source": [
        "#3. Calcular indicador ASTP y añadirlo al dataframe \"resultado\"\n",
        "%%R\n",
        "resultado$ASTP <- resultado$BMWP_col/nt_SF$nt_SF\n",
        "head(resultado)"
      ],
      "metadata": {
        "colab": {
          "base_uri": "https://localhost:8080/"
        },
        "id": "sIqBd8lBHBg_",
        "outputId": "4f6ebde8-6761-40f1-d627-81b196a54959"
      },
      "execution_count": 59,
      "outputs": [
        {
          "output_type": "stream",
          "name": "stdout",
          "text": [
            "  PTO_id        FCH BMWP_col  BMWP_int     ASTP\n",
            "1      C 2022-07-23       58 Aceptable 7.250000\n",
            "2      D 2022-07-23       36   Critica 5.142857\n",
            "3      E 2022-07-23       63     Buena 7.000000\n",
            "4      P 2022-07-23       89     Buena 6.846154\n",
            "5      T 2022-07-23       44 Aceptable 7.333333\n",
            "6      D 2022-08-20       19   Critica 6.333333\n"
          ]
        }
      ]
    },
    {
      "cell_type": "code",
      "source": [
        "# Crear interpretación de ASTP con un control de flujo\n",
        "%%R\n",
        "ASTP_int<-c()\n",
        "for(i in resultado$ASTP){\n",
        "  ASTP_int<-c(ASTP_int, if(i<=3){\n",
        "    \"Muy contaminada\"\n",
        "  } else if (3 <i & i <= 4.5){\n",
        "    \"Contaminada\"\n",
        "  }\n",
        "  else if (4.5 <i & i <= 6.5){\n",
        "    \"Contaminación moderada\"\n",
        "  }\n",
        "  else if (6.5 <i & i <= 8){\n",
        "    \"Contaminación baja\"\n",
        "  }\n",
        "  else {\"No contaminado\"}\n",
        "  )\n",
        "}\n",
        "head(resultado)"
      ],
      "metadata": {
        "colab": {
          "base_uri": "https://localhost:8080/"
        },
        "id": "D05c4LNNHM6y",
        "outputId": "dbdf1311-57d4-4fb2-a62a-e6996b13891c"
      },
      "execution_count": 60,
      "outputs": [
        {
          "output_type": "stream",
          "name": "stdout",
          "text": [
            "  PTO_id        FCH BMWP_col  BMWP_int     ASTP\n",
            "1      C 2022-07-23       58 Aceptable 7.250000\n",
            "2      D 2022-07-23       36   Critica 5.142857\n",
            "3      E 2022-07-23       63     Buena 7.000000\n",
            "4      P 2022-07-23       89     Buena 6.846154\n",
            "5      T 2022-07-23       44 Aceptable 7.333333\n",
            "6      D 2022-08-20       19   Critica 6.333333\n"
          ]
        }
      ]
    },
    {
      "cell_type": "code",
      "source": [
        "# Añadir columna de interpretacion del ASTP_int en el dataframe \"resultado\"\n",
        "%%R\n",
        "resultado$ASTP_int<-ASTP_int\n",
        "head(resultado)"
      ],
      "metadata": {
        "colab": {
          "base_uri": "https://localhost:8080/"
        },
        "id": "gf2Dbh1hHWYL",
        "outputId": "457ee021-d7a6-48b3-dd60-66403751717d"
      },
      "execution_count": 61,
      "outputs": [
        {
          "output_type": "stream",
          "name": "stdout",
          "text": [
            "  PTO_id        FCH BMWP_col  BMWP_int     ASTP               ASTP_int\n",
            "1      C 2022-07-23       58 Aceptable 7.250000     Contaminación baja\n",
            "2      D 2022-07-23       36   Critica 5.142857 Contaminación moderada\n",
            "3      E 2022-07-23       63     Buena 7.000000     Contaminación baja\n",
            "4      P 2022-07-23       89     Buena 6.846154     Contaminación baja\n",
            "5      T 2022-07-23       44 Aceptable 7.333333     Contaminación baja\n",
            "6      D 2022-08-20       19   Critica 6.333333 Contaminación moderada\n"
          ]
        }
      ]
    },
    {
      "cell_type": "code",
      "source": [
        "# Contar filas/riqueza por evento de muestreo (sitio / Fecha / Puntaje)\n",
        "%%R\n",
        "nt_SFP = aggregate(taxon ~ PTO_id + FCH + PTJE_taxon, data = HIDROBIO_crudos, FUN=length)\n",
        "names (nt_SFP)[4] = \"nt_SFP\"\n",
        "arrange(nt_SFP,PTO_id,FCH)\n",
        "head(nt_SFP)"
      ],
      "metadata": {
        "colab": {
          "base_uri": "https://localhost:8080/"
        },
        "id": "iFIf_WAbGfhN",
        "outputId": "c420ea85-87cd-43d4-a48b-3364997483e9"
      },
      "execution_count": 53,
      "outputs": [
        {
          "output_type": "stream",
          "name": "stdout",
          "text": [
            "  PTO_id        FCH PTJE_taxon nt_SFP\n",
            "1      C 2022-07-23          2      1\n",
            "2      D 2022-07-23          2      1\n",
            "3      E 2022-07-23          2      1\n",
            "4      R 2023-02-18          2      2\n",
            "5      D 2023-02-23          2      1\n",
            "6      P 2023-02-23          2      1\n"
          ]
        }
      ]
    },
    {
      "cell_type": "code",
      "source": [
        "# Contar filas/observaciones por sitio / Fecha\n",
        "%%R\n",
        "nt_SF <- aggregate(nt_SFP ~ PTO_id + FCH, data = nt_SFP, FUN = sum, na.rm = TRUE)\n",
        "as.Date(nt_SF$FCH, format=\"%d/%m/%Y\")\n",
        "names (nt_SF)[3] = \"nt_SF\"\n",
        "head(nt_SF)"
      ],
      "metadata": {
        "colab": {
          "base_uri": "https://localhost:8080/"
        },
        "id": "ieIiNAYxGosc",
        "outputId": "864b52b8-799d-4fc9-fab7-6394ef15300d"
      },
      "execution_count": 55,
      "outputs": [
        {
          "output_type": "stream",
          "name": "stdout",
          "text": [
            "  PTO_id        FCH nt_SF\n",
            "1      C 2022-07-23     8\n",
            "2      D 2022-07-23     7\n",
            "3      E 2022-07-23     9\n",
            "4      P 2022-07-23    13\n",
            "5      T 2022-07-23     6\n",
            "6      D 2022-08-20     3\n"
          ]
        }
      ]
    },
    {
      "cell_type": "markdown",
      "source": [
        "### 5.2 Cálcular índice H' Shannon\n",
        "----\n",
        "El indicador criterio de información de Shannon H’, evalúa el efecto de las abundancias relativas de los diferentes taxones. Aquí se emplea lo propuesto por Pham y Quoc (2016) que adapta su uso como un método para evaluar calidad de agua."
      ],
      "metadata": {
        "id": "bGmQp_ofPOwo"
      }
    },
    {
      "cell_type": "code",
      "source": [
        "# Calcular H' Shannon\n",
        "\n",
        "# ESTO NO ES COMNADO SOLO LA ECUACION TEORICA: H'= -Sumatoria Pi ln Pi,  donde pi es la proporción de la especie i respecto al total de individuos\n",
        "\n",
        "#Calcular proporción de cada taxon del total de taxones dada una fecha y punto de muestreo\n",
        "%%R\n",
        "HIDROBIO_crudos$proportion<-as.vector(unlist(tapply(HIDROBIO_crudos$ABUN_taxon,paste(HIDROBIO_crudos$PTO_id,HIDROBIO_crudos$FCH,sep=\".\"),FUN=function(x){x/sum(x)})));"
      ],
      "metadata": {
        "id": "7CC78OGdHiI0"
      },
      "execution_count": 62,
      "outputs": []
    },
    {
      "cell_type": "code",
      "source": [
        "#Calcular ln de la proporción de cada taxon del total de taxones dada una fecha y punto de muestreo\n",
        "%%R\n",
        "HIDROBIO_crudos$ln_proportion<-log(HIDROBIO_crudos$proportion)"
      ],
      "metadata": {
        "id": "Zr_FA-93INJh"
      },
      "execution_count": 63,
      "outputs": []
    },
    {
      "cell_type": "code",
      "source": [
        "#Calcular la multiplicacion de pi x ln(pi)\n",
        "%%R\n",
        "HIDROBIO_crudos$pi_x_lnpi<-HIDROBIO_crudos$ln_proportion*HIDROBIO_crudos$proportion"
      ],
      "metadata": {
        "id": "xPrtfP5uIWe4"
      },
      "execution_count": 64,
      "outputs": []
    },
    {
      "cell_type": "code",
      "source": [
        "#Sumar las proporciones\n",
        "%%R\n",
        "sum_proportion <- aggregate(pi_x_lnpi ~ PTO_id + FCH, data = HIDROBIO_crudos, FUN = sum, na.rm = TRUE)\n",
        "as.Date(sum_proportion$FCH, format=\"%d/%m/%Y\")\n",
        "arrange(sum_proportion,PTO_id,FCH)"
      ],
      "metadata": {
        "colab": {
          "base_uri": "https://localhost:8080/"
        },
        "id": "S5atwzdQIeH7",
        "outputId": "f07b4d75-6a41-44dc-cf58-e416b208b93d"
      },
      "execution_count": 65,
      "outputs": [
        {
          "output_type": "stream",
          "name": "stdout",
          "text": [
            "   PTO_id        FCH  pi_x_lnpi\n",
            "1       C 2022-07-23 -1.6288291\n",
            "2       C 2022-10-10 -1.2643617\n",
            "3       C 2023-02-23 -2.1902375\n",
            "4       C 2023-05-10 -1.0796416\n",
            "5       C 2023-07-17 -2.3749545\n",
            "6       D 2022-07-23 -2.0222523\n",
            "7       D 2022-08-20 -0.6212267\n",
            "8       D 2022-10-10 -0.3583897\n",
            "9       D 2023-02-23 -2.3044211\n",
            "10      D 2023-03-30 -2.2292558\n",
            "11      D 2023-04-30 -1.0639212\n",
            "12      D 2023-05-29 -1.6413749\n",
            "13      D 2023-06-30 -0.8979350\n",
            "14      D 2023-07-18 -1.5581153\n",
            "15      E 2022-07-23 -1.9097349\n",
            "16      E 2022-08-20 -1.4059249\n",
            "17      E 2022-09-20 -1.2757725\n",
            "18      E 2023-03-17 -1.2117987\n",
            "19      E 2023-04-19 -2.0603811\n",
            "20      E 2023-05-18 -1.8072214\n",
            "21      P 2022-07-23 -2.0965562\n",
            "22      P 2022-08-20 -0.8191915\n",
            "23      P 2022-09-20 -0.4369279\n",
            "24      P 2023-02-23 -1.6943143\n",
            "25      P 2023-03-27 -1.9615320\n",
            "26      P 2023-04-30 -1.5737742\n",
            "27      P 2023-05-10 -0.7645271\n",
            "28      P 2023-07-16 -3.7372102\n",
            "29      R 2023-02-18 -2.9103446\n",
            "30      R 2023-05-10 -2.6579970\n",
            "31      R 2023-08-29 -1.3323217\n",
            "32      T 2022-07-23 -1.7436154\n",
            "33      T 2023-07-15 -0.8059612\n"
          ]
        }
      ]
    },
    {
      "cell_type": "code",
      "source": [
        "#Añadir columna de H_Shannon en el dataframe\n",
        "%%R\n",
        "resultado$H_Shannon <- -1*sum_proportion$pi_x_lnpi\n",
        "head(resultado)"
      ],
      "metadata": {
        "colab": {
          "base_uri": "https://localhost:8080/"
        },
        "id": "FiFfupNIIh6s",
        "outputId": "37184daf-f688-4690-d226-ef94df2c4a87"
      },
      "execution_count": 68,
      "outputs": [
        {
          "output_type": "stream",
          "name": "stdout",
          "text": [
            "  PTO_id        FCH BMWP_col  BMWP_int     ASTP               ASTP_int\n",
            "1      C 2022-07-23       58 Aceptable 7.250000     Contaminación baja\n",
            "2      D 2022-07-23       36   Critica 5.142857 Contaminación moderada\n",
            "3      E 2022-07-23       63     Buena 7.000000     Contaminación baja\n",
            "4      P 2022-07-23       89     Buena 6.846154     Contaminación baja\n",
            "5      T 2022-07-23       44 Aceptable 7.333333     Contaminación baja\n",
            "6      D 2022-08-20       19   Critica 6.333333 Contaminación moderada\n",
            "  H_Shannon\n",
            "1 1.6288291\n",
            "2 2.0222523\n",
            "3 1.9097349\n",
            "4 2.0965562\n",
            "5 1.7436154\n",
            "6 0.6212267\n"
          ]
        }
      ]
    },
    {
      "cell_type": "code",
      "source": [
        "# Crear interpretación de H_Shannon con un control de flujo\n",
        "#Referencia: Pham, Duc & Quoc, Dung. 2016. Water Quality Assessment Using Benthic Macroinvertebrates in Saigon River and Its Tributaries, Vietnam. GeoScience Engineering. 62. 10.1515/gse-2016-0013.\n",
        "%%R\n",
        "H_Shannon_int<-c()\n",
        "for(i in resultado$H_Shannon){\n",
        "  H_Shannon_int<-c(H_Shannon_int, if(i<=0.1){\n",
        "    \"Contaminación muy alta\"\n",
        "  } else if (0.1 <i & i <= 0.8){\n",
        "    \"Contaminación alta\"\n",
        "  }\n",
        "  else if (0.8 <i & i <= 1.4){\n",
        "    \"Contaminación moderada\"\n",
        "  }\n",
        "  else if (1.4 <i & i <= 2.2){\n",
        "    \"Contaminación baja\"\n",
        "  }\n",
        "  else if (2.2 <i & i <= 3.35){\n",
        "    \"Contaminación muy baja\"\n",
        "  }\n",
        "  else {\"Sin contaminación\"}\n",
        "  )\n",
        "}\n",
        "H_Shannon_int"
      ],
      "metadata": {
        "colab": {
          "base_uri": "https://localhost:8080/"
        },
        "id": "fSwh0A8ZIpci",
        "outputId": "ac050430-ae6b-4cc2-b34b-c74a26289b99"
      },
      "execution_count": 70,
      "outputs": [
        {
          "output_type": "stream",
          "name": "stdout",
          "text": [
            " [1] \"Contaminación baja\"     \"Contaminación baja\"     \"Contaminación baja\"    \n",
            " [4] \"Contaminación baja\"     \"Contaminación baja\"     \"Contaminación alta\"    \n",
            " [7] \"Contaminación baja\"     \"Contaminación moderada\" \"Contaminación moderada\"\n",
            "[10] \"Contaminación alta\"     \"Contaminación moderada\" \"Contaminación alta\"    \n",
            "[13] \"Contaminación muy baja\" \"Contaminación baja\"     \"Contaminación muy baja\"\n",
            "[16] \"Contaminación baja\"     \"Contaminación moderada\" \"Contaminación baja\"    \n",
            "[19] \"Contaminación muy baja\" \"Contaminación baja\"     \"Contaminación moderada\"\n",
            "[22] \"Contaminación baja\"     \"Contaminación moderada\" \"Contaminación alta\"    \n",
            "[25] \"Contaminación muy baja\" \"Contaminación baja\"     \"Contaminación baja\"    \n",
            "[28] \"Contaminación moderada\" \"Contaminación moderada\" \"Sin contaminación\"     \n",
            "[31] \"Contaminación muy baja\" \"Contaminación baja\"     \"Contaminación moderada\"\n"
          ]
        }
      ]
    },
    {
      "cell_type": "code",
      "source": [
        "# Añadir columna de interpretacion del H_Shannon_int en el dataframe\n",
        "%%R\n",
        "resultado$H_Shannon_int<-H_Shannon_int\n",
        "head(resultado)"
      ],
      "metadata": {
        "colab": {
          "base_uri": "https://localhost:8080/"
        },
        "id": "FzjI-xSBIvLg",
        "outputId": "a2f7c643-c4ef-4e13-9889-c580f3c80af3"
      },
      "execution_count": 71,
      "outputs": [
        {
          "output_type": "stream",
          "name": "stdout",
          "text": [
            "  PTO_id        FCH BMWP_col  BMWP_int     ASTP               ASTP_int\n",
            "1      C 2022-07-23       58 Aceptable 7.250000     Contaminación baja\n",
            "2      D 2022-07-23       36   Critica 5.142857 Contaminación moderada\n",
            "3      E 2022-07-23       63     Buena 7.000000     Contaminación baja\n",
            "4      P 2022-07-23       89     Buena 6.846154     Contaminación baja\n",
            "5      T 2022-07-23       44 Aceptable 7.333333     Contaminación baja\n",
            "6      D 2022-08-20       19   Critica 6.333333 Contaminación moderada\n",
            "  H_Shannon      H_Shannon_int\n",
            "1 1.6288291 Contaminación baja\n",
            "2 2.0222523 Contaminación baja\n",
            "3 1.9097349 Contaminación baja\n",
            "4 2.0965562 Contaminación baja\n",
            "5 1.7436154 Contaminación baja\n",
            "6 0.6212267 Contaminación alta\n"
          ]
        }
      ]
    },
    {
      "cell_type": "markdown",
      "source": [
        "### 5.3 Cálcular índice D' Simpson\n",
        "----\n",
        "El indicador D'Simpson puede interpretarse como la media ponderada de las abundancias proporcionales de diferentes elementos, en este caso taxones. Para éste análisis se consideró la interpretación de Guajardo (2015)."
      ],
      "metadata": {
        "id": "5mWWqTxHQKmN"
      }
    },
    {
      "cell_type": "code",
      "source": [
        "#Calcular D_Simpson. Calcular el cuadrado de la proporción de cada taxon del total de taxones dada una fecha y punto de muestreo\n",
        "%%R\n",
        "HIDROBIO_crudos$proportion_2<-HIDROBIO_crudos$proportion^2"
      ],
      "metadata": {
        "id": "tqsMH4QcIy6_"
      },
      "execution_count": 72,
      "outputs": []
    },
    {
      "cell_type": "code",
      "source": [
        "#Sumar las proporciones\n",
        "%%R\n",
        "sum_proportion_2 <- aggregate(proportion_2 ~ PTO_id + FCH, data = HIDROBIO_crudos, FUN = sum, na.rm = TRUE)\n",
        "as.Date(sum_proportion_2$FCH, format=\"%d/%m/%Y\")\n",
        "names (sum_proportion_2)[3] = \"sum_proportion_2\""
      ],
      "metadata": {
        "id": "N2VxtYKJI9rS"
      },
      "execution_count": 73,
      "outputs": []
    },
    {
      "cell_type": "code",
      "source": [
        "#Añadir columna de D_Simpson en el dataframe \"resultado\"\n",
        "%%R\n",
        "resultado$D_Simpson <- 1-sum_proportion_2$sum_proportion_2"
      ],
      "metadata": {
        "id": "UbVvgiG6JEyw"
      },
      "execution_count": 74,
      "outputs": []
    },
    {
      "cell_type": "code",
      "source": [
        "# Crear interpretación de D_Simpson con un control de flujo\n",
        "#Referencia: Guajardo, Salomon. 2015. Measuring Diversity in Police Agencies. Journal of Ethnicity in Criminal Justice. 13. 1-15. 10.1080/15377938.2014.893220.\n",
        "%%R\n",
        "D_Simpson_int<-c()\n",
        "for(i in resultado$D_Simpson){\n",
        "  D_Simpson_int<-c(D_Simpson_int, if(i<=0.01){\n",
        "    \"Ausencia de diversidad\"\n",
        "  } else if (0.01 <i & i <= 0.4){\n",
        "    \"Bajo grado de diversidad\"\n",
        "  }\n",
        "  else if (0.4 <i & i <= 0.6){\n",
        "    \"Moderado grado de diversidad\"\n",
        "  }\n",
        "  else if (0.6 <i & i <= 0.8){\n",
        "    \"Moderado a alto grado de diversidad\"\n",
        "  }\n",
        "  else {\"Alto grado de diversidad\"}\n",
        "  )\n",
        "}\n",
        "D_Simpson_int"
      ],
      "metadata": {
        "colab": {
          "base_uri": "https://localhost:8080/"
        },
        "id": "kAt8XEp4JLCg",
        "outputId": "f284e7af-a361-4f05-e91d-96a2229f043c"
      },
      "execution_count": 75,
      "outputs": [
        {
          "output_type": "stream",
          "name": "stdout",
          "text": [
            " [1] \"Moderado a alto grado de diversidad\" \"Moderado a alto grado de diversidad\"\n",
            " [3] \"Alto grado de diversidad\"            \"Alto grado de diversidad\"           \n",
            " [5] \"Moderado a alto grado de diversidad\" \"Alto grado de diversidad\"           \n",
            " [7] \"Moderado a alto grado de diversidad\" \"Ausencia de diversidad\"             \n",
            " [9] \"Alto grado de diversidad\"            \"Alto grado de diversidad\"           \n",
            "[11] \"Moderado a alto grado de diversidad\" \"Moderado a alto grado de diversidad\"\n",
            "[13] \"Moderado a alto grado de diversidad\" \"Alto grado de diversidad\"           \n",
            "[15] \"Moderado a alto grado de diversidad\" \"Alto grado de diversidad\"           \n",
            "[17] \"Moderado a alto grado de diversidad\" \"Moderado a alto grado de diversidad\"\n",
            "[19] \"Moderado a alto grado de diversidad\" \"Alto grado de diversidad\"           \n",
            "[21] \"Alto grado de diversidad\"            \"Moderado a alto grado de diversidad\"\n",
            "[23] \"Alto grado de diversidad\"            \"Alto grado de diversidad\"           \n",
            "[25] \"Bajo grado de diversidad\"            \"Moderado a alto grado de diversidad\"\n",
            "[27] \"Moderado grado de diversidad\"        \"Alto grado de diversidad\"           \n",
            "[29] \"Alto grado de diversidad\"            \"Bajo grado de diversidad\"           \n",
            "[31] \"Alto grado de diversidad\"            \"Alto grado de diversidad\"           \n",
            "[33] \"Alto grado de diversidad\"           \n"
          ]
        }
      ]
    },
    {
      "cell_type": "code",
      "source": [
        "# Añadir columna de interpretacion del D_Simpson en el dataframe \"resultado\"\n",
        "%%R\n",
        "resultado$D_Simpson_int<-D_Simpson_int\n",
        "head(resultado)"
      ],
      "metadata": {
        "colab": {
          "base_uri": "https://localhost:8080/"
        },
        "id": "Jvyt6nnNJf-R",
        "outputId": "7cff9d21-d960-490a-9e9c-da0c7beadea8"
      },
      "execution_count": 76,
      "outputs": [
        {
          "output_type": "stream",
          "name": "stdout",
          "text": [
            "  PTO_id        FCH BMWP_col  BMWP_int     ASTP               ASTP_int\n",
            "1      C 2022-07-23       58 Aceptable 7.250000     Contaminación baja\n",
            "2      D 2022-07-23       36   Critica 5.142857 Contaminación moderada\n",
            "3      E 2022-07-23       63     Buena 7.000000     Contaminación baja\n",
            "4      P 2022-07-23       89     Buena 6.846154     Contaminación baja\n",
            "5      T 2022-07-23       44 Aceptable 7.333333     Contaminación baja\n",
            "6      D 2022-08-20       19   Critica 6.333333 Contaminación moderada\n",
            "  H_Shannon      H_Shannon_int D_Simpson                       D_Simpson_int\n",
            "1 1.6288291 Contaminación baja 0.7423469 Moderado a alto grado de diversidad\n",
            "2 2.0222523 Contaminación baja 0.6817558 Moderado a alto grado de diversidad\n",
            "3 1.9097349 Contaminación baja 0.8343827            Alto grado de diversidad\n",
            "4 2.0965562 Contaminación baja 0.8635355            Alto grado de diversidad\n",
            "5 1.7436154 Contaminación baja 0.6995398 Moderado a alto grado de diversidad\n",
            "6 0.6212267 Contaminación alta 0.9791667            Alto grado de diversidad\n"
          ]
        }
      ]
    },
    {
      "cell_type": "markdown",
      "source": [
        "### 5.4 Cálcular índice D_mg Riqueza de Margalef\n",
        "----\n",
        "El índice de riqueza de Margalef (D_Mg) determina la biodiversidad de una comunidad biótica con base en la distribución numérica de los individuos de las diferentes especies o taxones, en función del número total de individuos existentes en la muestra analizada. Para interpretar los resultados se empleó la interpretación de Latumahina et al (2020)."
      ],
      "metadata": {
        "id": "SoHNNz8fRlAK"
      }
    },
    {
      "cell_type": "code",
      "source": [
        "#Calculo D_mg Riqueza Margalef\n",
        "%%R\n",
        "S_mg = aggregate(taxon ~ PTO_id + FCH, data = HIDROBIO_crudos, FUN=length)\n",
        "as.Date(S_mg$FCH, format=\"%d/%m/%Y\")\n",
        "names (S_mg)[3] = \"S_mg\"\n",
        "S_mg\n",
        "N_mg <- aggregate(ABUN_taxon ~ PTO_id + FCH, data = HIDROBIO_crudos, FUN = sum, na.rm = TRUE)\n",
        "as.Date(N_mg$FCH, format=\"%d/%m/%Y\")\n",
        "names (N_mg)[3] = \"N_mg\""
      ],
      "metadata": {
        "id": "OmA_ZNTCJnBY"
      },
      "execution_count": 78,
      "outputs": []
    },
    {
      "cell_type": "code",
      "source": [
        "#Añadir columna de D_mg riqueza de Margalef en el dataframe, quito datos que se convierten en NA\n",
        "%%R\n",
        "resultado$D_mg <- (S_mg$S_mg -1)/log(N_mg$N_mg)\n",
        "resultado$D_mg[is.nan(resultado$D_mg)]<-0\n",
        "head(resultado)"
      ],
      "metadata": {
        "colab": {
          "base_uri": "https://localhost:8080/"
        },
        "id": "MADe6O-nJjvq",
        "outputId": "dcb2d0be-1e88-41ba-8d7e-3672fa2c31f6"
      },
      "execution_count": 79,
      "outputs": [
        {
          "output_type": "stream",
          "name": "stdout",
          "text": [
            "  PTO_id        FCH BMWP_col  BMWP_int     ASTP               ASTP_int\n",
            "1      C 2022-07-23       58 Aceptable 7.250000     Contaminación baja\n",
            "2      D 2022-07-23       36   Critica 5.142857 Contaminación moderada\n",
            "3      E 2022-07-23       63     Buena 7.000000     Contaminación baja\n",
            "4      P 2022-07-23       89     Buena 6.846154     Contaminación baja\n",
            "5      T 2022-07-23       44 Aceptable 7.333333     Contaminación baja\n",
            "6      D 2022-08-20       19   Critica 6.333333 Contaminación moderada\n",
            "  H_Shannon      H_Shannon_int D_Simpson                       D_Simpson_int\n",
            "1 1.6288291 Contaminación baja 0.7423469 Moderado a alto grado de diversidad\n",
            "2 2.0222523 Contaminación baja 0.6817558 Moderado a alto grado de diversidad\n",
            "3 1.9097349 Contaminación baja 0.8343827            Alto grado de diversidad\n",
            "4 2.0965562 Contaminación baja 0.8635355            Alto grado de diversidad\n",
            "5 1.7436154 Contaminación baja 0.6995398 Moderado a alto grado de diversidad\n",
            "6 0.6212267 Contaminación alta 0.9791667            Alto grado de diversidad\n",
            "      D_mg\n",
            "1 2.100711\n",
            "2 2.414578\n",
            "3 2.077842\n",
            "4 3.152368\n",
            "5 2.404492\n",
            "6 1.442695\n"
          ]
        }
      ]
    },
    {
      "cell_type": "code",
      "source": [
        "# Crear interpretación de D_mg con un control de flujo\n",
        "#Referencia: Latumahina, Fransina, Mardiatmoko, Gun, Sahusilawane, J. 2020. Richness, Diversity And Evenness Of Birds In Small Island. Journal of Physics: Conference Series. 1463. 012023. 10.1088/1742-6596/1463/1/012023.\n",
        "%%R\n",
        "D_mg_int<-c()\n",
        "for(i in resultado$D_mg){\n",
        "  D_mg_int<-c(D_mg_int, if(i<=2.05){\n",
        "    \"Riqueza en taxones baja\"\n",
        "  }\n",
        "  else if (2.04 <i & i <= 4){\n",
        "    \"Riqueza en taxones moderada\"\n",
        "  }\n",
        "  else {\"Riqueza en taxones alta\"}\n",
        "  )\n",
        "}\n",
        "head(D_mg_int)"
      ],
      "metadata": {
        "colab": {
          "base_uri": "https://localhost:8080/"
        },
        "id": "g-FB0eVAKEBB",
        "outputId": "c1ca9904-1cff-42b5-9971-05beea23a5f3"
      },
      "execution_count": 80,
      "outputs": [
        {
          "output_type": "stream",
          "name": "stdout",
          "text": [
            "[1] \"Riqueza en taxones moderada\" \"Riqueza en taxones moderada\"\n",
            "[3] \"Riqueza en taxones moderada\" \"Riqueza en taxones moderada\"\n",
            "[5] \"Riqueza en taxones moderada\" \"Riqueza en taxones baja\"    \n"
          ]
        }
      ]
    },
    {
      "cell_type": "code",
      "source": [
        "# Añadir columna de interpretacion del D_mg en el dataframe\n",
        "%%R\n",
        "resultado$D_mg_int<-D_mg_int\n",
        "head(resultado)"
      ],
      "metadata": {
        "colab": {
          "base_uri": "https://localhost:8080/"
        },
        "id": "yD0YBDBpKJkg",
        "outputId": "32fac048-0247-4121-c367-bf78a349ce81"
      },
      "execution_count": 81,
      "outputs": [
        {
          "output_type": "stream",
          "name": "stdout",
          "text": [
            "  PTO_id        FCH BMWP_col  BMWP_int     ASTP               ASTP_int\n",
            "1      C 2022-07-23       58 Aceptable 7.250000     Contaminación baja\n",
            "2      D 2022-07-23       36   Critica 5.142857 Contaminación moderada\n",
            "3      E 2022-07-23       63     Buena 7.000000     Contaminación baja\n",
            "4      P 2022-07-23       89     Buena 6.846154     Contaminación baja\n",
            "5      T 2022-07-23       44 Aceptable 7.333333     Contaminación baja\n",
            "6      D 2022-08-20       19   Critica 6.333333 Contaminación moderada\n",
            "  H_Shannon      H_Shannon_int D_Simpson                       D_Simpson_int\n",
            "1 1.6288291 Contaminación baja 0.7423469 Moderado a alto grado de diversidad\n",
            "2 2.0222523 Contaminación baja 0.6817558 Moderado a alto grado de diversidad\n",
            "3 1.9097349 Contaminación baja 0.8343827            Alto grado de diversidad\n",
            "4 2.0965562 Contaminación baja 0.8635355            Alto grado de diversidad\n",
            "5 1.7436154 Contaminación baja 0.6995398 Moderado a alto grado de diversidad\n",
            "6 0.6212267 Contaminación alta 0.9791667            Alto grado de diversidad\n",
            "      D_mg                    D_mg_int\n",
            "1 2.100711 Riqueza en taxones moderada\n",
            "2 2.414578 Riqueza en taxones moderada\n",
            "3 2.077842 Riqueza en taxones moderada\n",
            "4 3.152368 Riqueza en taxones moderada\n",
            "5 2.404492 Riqueza en taxones moderada\n",
            "6 1.442695     Riqueza en taxones baja\n"
          ]
        }
      ]
    },
    {
      "cell_type": "markdown",
      "source": [
        "### 5.5 Cálcular índice equidad J' Pielou\n",
        "----\n",
        "El índice Pielou es una forma de medir cómo las especies se distribuyen uniformemente en una comunidad. El valor del índice Pielou se define entre 0 y 1, dónde 1 representa una comunidad con perfecta equidad y disminuye a cero a medida que las abundancias relativas de las especies divergen de la uniformidad. Para interpretar los resultados se empleó la interpretación de Hussain et al (2012)."
      ],
      "metadata": {
        "id": "9P40md9OSWvA"
      }
    },
    {
      "cell_type": "code",
      "source": [
        "#Calcular Equidad J_Pielou y añadir columna de J_Pielou en el dataframe\n",
        "# Mide la proporción de la diversidad observada con relación a la máxima diversidad esperada\n",
        "#ESTA ES LA ECUACION EQUIDAD\n",
        "#J´=H’/log2S, donde S =  diversidad máxima de Shannon ocurriría si todas las especies tuvieran la misma abundancia\n",
        "\n",
        "%%R\n",
        "resultado$J_Pielou <- resultado$H_Shannon/log2(S_mg$S_mg)\n",
        "is.na(resultado$J_Pielou)<-sapply(resultado$J_Pielou, is.infinite)\n",
        "resultado$J_Pielou[is.na(resultado$J_Pielou)]<-0"
      ],
      "metadata": {
        "id": "KttJPjjzKk4I"
      },
      "execution_count": null,
      "outputs": []
    },
    {
      "cell_type": "code",
      "source": [
        "# Crear interpretación de D_mg con un control de flujo\n",
        "#Referencia: Hussain, N. ., Ali, A. ., & Lazem, L. . 2022. Ecological indices of key biological groups in Southern Iraqi marshland during 2005-2007. Mesopotamian Journal of Marine Sciences, 27(2), 112–125. https://doi.org/10.58629/mjms.v27i2.162\n",
        "\n",
        "J_Pielou_int<-c()\n",
        "for(i in resultado$J_Pielou){\n",
        "  J_Pielou_int<-c(J_Pielou_int, if(i<=0.5){\n",
        "    \"Desbalanceado\"\n",
        "  }\n",
        "  else if (0.5 <i & i <= 0.8){\n",
        "    \"Semi-balanceado\"\n",
        "  }\n",
        "  else {\"Balanceado\"}\n",
        "  )\n",
        "}"
      ],
      "metadata": {
        "id": "T6n7EThVK0gJ"
      },
      "execution_count": null,
      "outputs": []
    },
    {
      "cell_type": "code",
      "source": [
        "# Añadir columna de interpretacion del J_Pielou en el dataframe\n",
        "%%R\n",
        "resultado$J_Pielou_int<-J_Pielou_int"
      ],
      "metadata": {
        "id": "2kIwMkTzMYJJ"
      },
      "execution_count": null,
      "outputs": []
    },
    {
      "cell_type": "markdown",
      "source": [
        "### 5.6 Cálcular información complementaria\n",
        "----\n",
        "Se añade al dataframe datos como el número total de taxones por evento de monitoreo por sitio, así como la abundancia total. Ésto permite dar idea general del comportamiento de los datos."
      ],
      "metadata": {
        "id": "71LdYBy1THnx"
      }
    },
    {
      "cell_type": "code",
      "source": [
        "#Añadir número total de taxones ####\n",
        "%%R\n",
        "resultado$S_riq_taxon<-nt_SF$nt_SF"
      ],
      "metadata": {
        "id": "_22VNXx3Meth"
      },
      "execution_count": null,
      "outputs": []
    },
    {
      "cell_type": "code",
      "source": [
        "#Añadir abundancia total de individuos  ####\n",
        "%%R\n",
        "resultado$ABUN_taxon<-N_mg$N_mg"
      ],
      "metadata": {
        "id": "LUj5a1PgMjTo"
      },
      "execution_count": null,
      "outputs": []
    },
    {
      "cell_type": "markdown",
      "source": [
        "### 5.7 Generar archivo BD de resultados\n",
        "----\n",
        "Se envia una nueva tabla que resume los hallazgos para el monitoreo comunitario, basado en un análisis de nivel técnico de las muestras colectadas."
      ],
      "metadata": {
        "id": "uBBdwaurThXt"
      }
    },
    {
      "cell_type": "code",
      "source": [
        "with open('/content/drive/MyDrive/CAQPPM_DATOS/02_CAQPPM_TABLAS/CAQPPM_TECNICOS_HIDROBIO_Macroinvertebrados.csv', 'w') as resultado:\n",
        "  df.to_csv(resultado)"
      ],
      "metadata": {
        "id": "--vtXeihMtiS"
      },
      "execution_count": null,
      "outputs": []
    },
    {
      "cell_type": "markdown",
      "source": [
        "##**6. Gráficas**\n",
        "---\n",
        "Acá se obtienen las gráficas de cada indicador"
      ],
      "metadata": {
        "id": "o17NV-h9F9oy"
      }
    },
    {
      "cell_type": "markdown",
      "source": [
        "### 6.1 Taxones mas representativos en general"
      ],
      "metadata": {
        "id": "2fO504BdeU0V"
      }
    },
    {
      "cell_type": "code",
      "source": [
        "%%R\n",
        "Taxabun <- data.frame(sort(table(mydata$taxon), decreasing = T))[1:10, ]\n",
        "colnames(Taxabun) <- c(\"taxon\", \"ABUN_taxon\")\n",
        "kable(Taxabun, caption=\"_Ranking_ 10 de las familias más abundantes\")\n",
        "\n",
        "fig_TaxonesRepresentativos <- ggplot(Taxabun) +\n",
        "  aes(x = taxon, fill = taxon, colour = taxon, weight = ABUN_taxon) +\n",
        "  geom_bar() +\n",
        "  scale_fill_brewer(palette = \"RdBu\") +\n",
        "  scale_color_brewer(palette = \"RdBu\") +\n",
        "  labs(x = \"Familias de macroinvertebrados acuáticos\",\n",
        "       y = \"Abundancia\",\n",
        "       ylab = \"Abundancia absoluta\") +\n",
        "  theme_classic() + theme(legend.position='none') +\n",
        "  theme(axis.text.x = element_text(angle = 30, hjust = 1))\n",
        "\n",
        "fig_TaxonesRepresentativos\n",
        "\n",
        "# Colocar en la leyenda del informe:\n",
        "#Figura X. Distribución de las abundancias por familia de macroinvertebrados acuaticos"
      ],
      "metadata": {
        "id": "ZHCMNobLeuaE"
      },
      "execution_count": null,
      "outputs": []
    },
    {
      "cell_type": "markdown",
      "source": [
        "### 6.2 Abundancia en general"
      ],
      "metadata": {
        "id": "QzGO6m3ae1QZ"
      }
    },
    {
      "cell_type": "code",
      "source": [
        "%%R\n",
        "fig_abundancia <-  plot_ly(data = resultado ,x =  ~FCH, y = ~ABUN_taxon, color = ~PTO_id, type = 'scatter', mode = 'lines+markers',symbol = ~PTO_id)%>%\n",
        "  layout(title = 'Abundancia de individuos por monitoreo', xaxis = list(title = 'Fecha del monitoreo'),\n",
        "         yaxis = list(title = 'Número de individuos'), legend = list(title=list(text='<b> Puntos </b>')))\n",
        "fig_abundancia"
      ],
      "metadata": {
        "id": "bTP21Kv7e0KS"
      },
      "execution_count": null,
      "outputs": []
    },
    {
      "cell_type": "markdown",
      "source": [
        "### 6.3 Riqueza"
      ],
      "metadata": {
        "id": "-SRTmdDMfDoH"
      }
    },
    {
      "cell_type": "code",
      "source": [
        "%%R\n",
        "fig_riqueza <-  plot_ly(data = resultado ,x =  ~FCH, y = ~S_riq_taxon, color = ~PTO_id, type = 'scatter', mode = 'lines+markers',symbol = ~PTO_id)%>%\n",
        "  layout(title = 'Riqueza de taxones por monitoreo', xaxis = list(title = 'Fecha del monitoreo'),\n",
        "         yaxis = list(title = 'Número de taxones'), legend = list(title=list(text='<b> Puntos </b>')))\n",
        "fig_riqueza"
      ],
      "metadata": {
        "id": "zJH81e4zfKFX"
      },
      "execution_count": null,
      "outputs": []
    },
    {
      "cell_type": "markdown",
      "source": [
        "### 6.4 BMWP_col"
      ],
      "metadata": {
        "id": "pkV5jBsnfOld"
      }
    },
    {
      "cell_type": "code",
      "source": [
        "%%R\n",
        "fig_BMWP_col <-  plot_ly(data = resultado ,x =  ~FCH, y = ~BMWP_col, color = ~PTO_id, type = 'scatter', mode = 'lines+markers',symbol = ~PTO_id)%>%\n",
        "  layout(title = 'Calidad de agua acorde a BMWP_col', xaxis = list(title = 'Fecha del monitoreo'),\n",
        "         yaxis = list(title = 'Índice BMWP_col'), legend = list(title=list(text='<b> Puntos </b>')))\n",
        "\n",
        "hrect <- function(y0 = 0, y1 = 1, fillcolor = \"red\", opacity = 0.2) {\n",
        "  list(\n",
        "    type = \"rect\",\n",
        "    x0 = 0,\n",
        "    x1 = 1,\n",
        "    xref = \"paper\",\n",
        "    y0 = y0,\n",
        "    y1 = y1,\n",
        "    line_width = 0,\n",
        "    fillcolor = fillcolor,\n",
        "    opacity = opacity,\n",
        "    layer = \"below\"\n",
        "  )\n",
        "}\n",
        "\n",
        "fig_BMWP_col <- fig_BMWP_col |> plotly::layout(shapes = list(\n",
        "  hrect(y0 = 0, y1 = 15, fillcolor = \"red\"),\n",
        "  hrect(y0 = 15, y1 = 36, fillcolor = \"darkorange\"),\n",
        "  hrect(y0 = 36, y1 = 60, fillcolor = \"yellow\"),\n",
        "  hrect(y0 = 60, y1 = 90, fillcolor = \"chartreuse\"),\n",
        "  hrect(y0 = 90, y1 = 110, fillcolor = \"darkblue\")\n",
        "))\n",
        "\n",
        "fig_BMWP_col"
      ],
      "metadata": {
        "id": "q2xaGaZ3fVBH"
      },
      "execution_count": null,
      "outputs": []
    },
    {
      "cell_type": "markdown",
      "source": [
        "### 6.5 ASTP"
      ],
      "metadata": {
        "id": "Z_hMrKwjfbte"
      }
    },
    {
      "cell_type": "code",
      "source": [
        "%%R\n",
        "fig_ASTP <-  plot_ly(data = resultado ,x =  ~FCH, y = ~ASTP, color = ~PTO_id, type = 'scatter', mode = 'lines+markers',symbol = ~PTO_id)%>%\n",
        "  layout(title = 'Calidad de agua acorde a ASTP', xaxis = list(title = 'Fecha del monitoreo'),\n",
        "         yaxis = list(title = 'Índice ASTP'), legend = list(title=list(text='<b> Puntos </b>')))\n",
        "\n",
        "hrect <- function(y0 = 0, y1 = 1, fillcolor = \"red\", opacity = 0.2) {\n",
        "  list(\n",
        "    type = \"rect\",\n",
        "    x0 = 0,\n",
        "    x1 = 1,\n",
        "    xref = \"paper\",\n",
        "    y0 = y0,\n",
        "    y1 = y1,\n",
        "    line_width = 0,\n",
        "    fillcolor = fillcolor,\n",
        "    opacity = opacity,\n",
        "    layer = \"below\"\n",
        "  )\n",
        "}\n",
        "\n",
        "fig_ASTP <- fig_ASTP |> plotly::layout(shapes = list(\n",
        "  hrect(y0 = 0, y1 = 3, fillcolor = \"red\"),\n",
        "  hrect(y0 = 3, y1 = 4.5, fillcolor = \"darkorange\"),\n",
        "  hrect(y0 = 4.5, y1 = 6.5, fillcolor = \"yellow\"),\n",
        "  hrect(y0 = 6.5, y1 = 8, fillcolor = \"chartreuse\"),\n",
        "  hrect(y0 = 8, y1 = 10, fillcolor = \"darkblue\")\n",
        "))\n",
        "\n",
        "fig_ASTP"
      ],
      "metadata": {
        "id": "a-R9grZRffXn"
      },
      "execution_count": null,
      "outputs": []
    },
    {
      "cell_type": "markdown",
      "source": [
        "### 6.6 H' Shannon"
      ],
      "metadata": {
        "id": "UFfhYsWbfkpK"
      }
    },
    {
      "cell_type": "code",
      "source": [
        "%%R\n",
        "fig_H_Shannon <-  plot_ly(data = resultado ,x =  ~FCH, y = ~H_Shannon, color = ~PTO_id, type = 'scatter', mode = 'lines+markers',symbol = ~PTO_id)%>%\n",
        "  layout(title = 'Biodiversidad acuática acorde a índice de Shannon', xaxis = list(title = 'Fecha del monitoreo'),\n",
        "         yaxis = list(title = 'Índice H_Shannon'), legend = list(title=list(text='<b> Puntos </b>')))\n",
        "\n",
        "hrect <- function(y0 = 0, y1 = 1, fillcolor = \"red\", opacity = 0.2) {\n",
        "  list(\n",
        "    type = \"rect\",\n",
        "    x0 = 0,\n",
        "    x1 = 1,\n",
        "    xref = \"paper\",\n",
        "    y0 = y0,\n",
        "    y1 = y1,\n",
        "    line_width = 0,\n",
        "    fillcolor = fillcolor,\n",
        "    opacity = opacity,\n",
        "    layer = \"below\"\n",
        "  )\n",
        "}\n",
        "\n",
        "fig_H_Shannon <- fig_H_Shannon |> plotly::layout(shapes = list(\n",
        "  hrect(y0 = 0, y1 = 0.1, fillcolor = \"red\"),\n",
        "  hrect(y0 = 0.1, y1 = 0.8, fillcolor = \"darkorange\"),\n",
        "  hrect(y0 = 0.8, y1 = 1.4, fillcolor = \"yellow\"),\n",
        "  hrect(y0 = 1.4, y1 = 3.35, fillcolor = \"chartreuse\"),\n",
        "  hrect(y0 = 3.35, y1 = 4, fillcolor = \"darkblue\")\n",
        "))\n",
        "\n",
        "fig_H_Shannon"
      ],
      "metadata": {
        "id": "1AaUInF_frN1"
      },
      "execution_count": null,
      "outputs": []
    },
    {
      "cell_type": "markdown",
      "source": [
        "###6.7 D_Simpson"
      ],
      "metadata": {
        "id": "XQGKnpy_fv0o"
      }
    },
    {
      "cell_type": "code",
      "source": [
        "%%R\n",
        "fig_D_Simpson <-  plot_ly(data = resultado ,x =  ~FCH, y = ~D_Simpson, color = ~PTO_id, type = 'scatter', mode = 'lines+markers',symbol = ~PTO_id)%>%\n",
        "  layout(title = 'Biodiversidad acuática acorde a índice de Simpson', xaxis = list(title = 'Fecha del monitoreo'),\n",
        "         yaxis = list(title = 'Índice D_Simpson'), legend = list(title=list(text='<b> Puntos </b>')))\n",
        "\n",
        "hrect <- function(y0 = 0, y1 = 1, fillcolor = \"red\", opacity = 0.2) {\n",
        "  list(\n",
        "    type = \"rect\",\n",
        "    x0 = 0,\n",
        "    x1 = 1,\n",
        "    xref = \"paper\",\n",
        "    y0 = y0,\n",
        "    y1 = y1,\n",
        "    line_width = 0,\n",
        "    fillcolor = fillcolor,\n",
        "    opacity = opacity,\n",
        "    layer = \"below\"\n",
        "  )\n",
        "}\n",
        "\n",
        "fig_D_Simpson <- fig_D_Simpson |> plotly::layout(shapes = list(\n",
        "  hrect(y0 = 0, y1 = 0.01, fillcolor = \"red\"),\n",
        "  hrect(y0 = 0.01, y1 = 0.4, fillcolor = \"darkorange\"),\n",
        "  hrect(y0 = 0.4, y1 = 0.6, fillcolor = \"yellow\"),\n",
        "  hrect(y0 = 0.6, y1 = 0.8, fillcolor = \"chartreuse\"),\n",
        "  hrect(y0 = 0.8, y1 = 1, fillcolor = \"darkblue\")\n",
        "))\n",
        "\n",
        "fig_D_Simpson"
      ],
      "metadata": {
        "id": "NQtiwJ3zfyDx"
      },
      "execution_count": null,
      "outputs": []
    },
    {
      "cell_type": "markdown",
      "source": [
        "###6.8 D_mg Riqueza Margalef"
      ],
      "metadata": {
        "id": "4dwqq7rkf2LG"
      }
    },
    {
      "cell_type": "code",
      "source": [
        "%%R\n",
        "fig_D_mg <-  plot_ly(data = resultado ,x =  ~FCH, y = ~D_mg, color = ~PTO_id, type = 'scatter', mode = 'lines+markers',symbol = ~PTO_id)%>%\n",
        "  layout(title = 'Biodiversidad acuática acorde a índice de Margalef', xaxis = list(title = 'Fecha del monitoreo'),\n",
        "         yaxis = list(title = 'Índice D_mg'), legend = list(title=list(text='<b> Puntos </b>')))\n",
        "\n",
        "hrect <- function(y0 = 0, y1 = 1, fillcolor = \"red\", opacity = 0.2) {\n",
        "  list(\n",
        "    type = \"rect\",\n",
        "    x0 = 0,\n",
        "    x1 = 1,\n",
        "    xref = \"paper\",\n",
        "    y0 = y0,\n",
        "    y1 = y1,\n",
        "    line_width = 0,\n",
        "    fillcolor = fillcolor,\n",
        "    opacity = opacity,\n",
        "    layer = \"below\"\n",
        "  )\n",
        "}\n",
        "\n",
        "fig_D_mg <- fig_D_mg |> plotly::layout(shapes = list(\n",
        "  hrect(y0 = 0, y1 = 2.05, fillcolor = \"red\"),\n",
        "  hrect(y0 = 2.05, y1 = 4, fillcolor = \"chartreuse\"),\n",
        "  hrect(y0 = 4, y1 = 6, fillcolor = \"darkblue\")\n",
        "))\n",
        "\n",
        "fig_D_mg"
      ],
      "metadata": {
        "id": "CJWKbSJYf-7L"
      },
      "execution_count": null,
      "outputs": []
    },
    {
      "cell_type": "code",
      "source": [
        "###6.9 Equidad Pielou"
      ],
      "metadata": {
        "id": "hazXssQMgALq"
      },
      "execution_count": null,
      "outputs": []
    },
    {
      "cell_type": "code",
      "source": [
        "%%R\n",
        "fig_J_Pielou <-  plot_ly(data = resultado ,x =  ~FCH, y = ~J_Pielou, color = ~PTO_id, type = 'scatter', mode = 'lines+markers',symbol = ~PTO_id)%>%\n",
        "  layout(title = 'Biodiversidad acuática acorde a índice de Equidad de taxones', xaxis = list(title = 'Fecha del monitoreo'),\n",
        "         yaxis = list(title = 'Índice J_Pielou'), legend = list(title=list(text='<b> Puntos </b>')))\n",
        "\n",
        "hrect <- function(y0 = 0, y1 = 1, fillcolor = \"red\", opacity = 0.2) {\n",
        "  list(\n",
        "    type = \"rect\",\n",
        "    x0 = 0,\n",
        "    x1 = 1,\n",
        "    xref = \"paper\",\n",
        "    y0 = y0,\n",
        "    y1 = y1,\n",
        "    line_width = 0,\n",
        "    fillcolor = fillcolor,\n",
        "    opacity = opacity,\n",
        "    layer = \"below\"\n",
        "  )\n",
        "}\n",
        "\n",
        "fig_J_Pielou <- fig_J_Pielou |> plotly::layout(shapes = list(\n",
        "  hrect(y0 = 0, y1 = 0.5, fillcolor = \"red\"),\n",
        "  hrect(y0 = 0.5, y1 = 0.8, fillcolor = \"yellow\"),\n",
        "  hrect(y0 = 0.8, y1 = 0.9, fillcolor = \"chartreuse\"),\n",
        "  hrect(y0 = 0.8, y1 = 1, fillcolor = \"darkblue\")\n",
        "))\n",
        "\n",
        "fig_J_Pielou"
      ],
      "metadata": {
        "id": "-Q1FhWYtqtzK"
      },
      "execution_count": null,
      "outputs": []
    },
    {
      "cell_type": "markdown",
      "source": [
        "#Referencias Bibliográficas\n",
        "--------\n",
        "\n",
        "Guajardo, Salomon. 2015. Measuring Diversity in Police Agencies. Journal of Ethnicity in Criminal Justice. 13. 1-15. [10.1080/15377938.2014.893220](https://).\n",
        "\n",
        "Hussain, N. ., Ali, A. ., & Lazem, L. . 2022. Ecological indices of key biological groups in Southern Iraqi marshland during 2005-2007. Mesopotamian Journal of Marine Sciences, 27(2), 112–125. https://doi.org/10.58629/mjms.v27i2.162\n",
        "\n",
        "Latumahina, Fransina, Mardiatmoko, Gun, Sahusilawane, J. 2020. Richness, Diversity And Evenness Of Birds In Small Island. Journal of Physics: Conference Series. 1463. 012023. [10.1088/1742-6596/1463/1/012023](https://).\n",
        "\n",
        "Pham, Duc & Quoc, Dung. 2016. Water Quality Assessment Using Benthic Macroinvertebrates in Saigon River and Its Tributaries, Vietnam. GeoScience Engineering. 62. [10.1515/gse-2016-0013](https://)\n",
        "\n",
        "Roldán (2003) Roldán Pérez, G. A. 2003. Bioindicación de la calidad del agua en Colombia. Uso del método BMWP/Col. Editorial Universidad de Antioquia. Disponible en https://goo.gl/5UMB9u."
      ],
      "metadata": {
        "id": "HYdXhuFRO57_"
      }
    }
  ]
}